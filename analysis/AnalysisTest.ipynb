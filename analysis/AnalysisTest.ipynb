{
 "cells": [
  {
   "cell_type": "markdown",
   "id": "9bc44ad2",
   "metadata": {},
   "source": [
    "This notebook only checks the performance of the Analysis class for certain bugs."
   ]
  },
  {
   "cell_type": "code",
   "execution_count": 1,
   "id": "510f9c34",
   "metadata": {},
   "outputs": [],
   "source": [
    "from Analysis import Analysis"
   ]
  },
  {
   "cell_type": "code",
   "execution_count": 2,
   "id": "b799a7ec",
   "metadata": {},
   "outputs": [],
   "source": [
    "analyzer = Analysis()"
   ]
  },
  {
   "cell_type": "code",
   "execution_count": 3,
   "id": "d9b340e2",
   "metadata": {},
   "outputs": [],
   "source": [
    "# CASE 1: Regression\n",
    "candidates = analyzer.analyzeBug(\"JacksonCore\", 11)['BIC_candidates']\n",
    "assert set([162]) <= set(map(lambda c: c[0],candidates))"
   ]
  },
  {
   "cell_type": "code",
   "execution_count": 4,
   "id": "f8c08602",
   "metadata": {},
   "outputs": [],
   "source": [
    "# CASE 1.1: Regression - Case when algorithm reach first commit and need to check remaining in queue\n",
    "candidates = analyzer.analyzeBug(\"JacksonCore\", 10)['BIC_candidates']\n",
    "assert set([99]) <= set(map(lambda c: c[0],candidates))"
   ]
  },
  {
   "cell_type": "code",
   "execution_count": 5,
   "id": "d7ec81f4",
   "metadata": {},
   "outputs": [],
   "source": [
    "# CASE 1.2: Regression - Could be more candidates\n",
    "candidates = analyzer.analyzeBug(\"JacksonDatabind\", 59)['BIC_candidates']\n",
    "assert set([146]) <= set(map(lambda c: c[0],candidates))"
   ]
  },
  {
   "cell_type": "code",
   "execution_count": 6,
   "id": "3c826c12",
   "metadata": {},
   "outputs": [],
   "source": [
    "# CASE 1.3: Regression - Could be more candidates\n",
    "candidates = analyzer.analyzeBug(\"Compress\", 28)['BIC_candidates']\n",
    "assert set([273]) <= set(map(lambda c: c[0],candidates))"
   ]
  },
  {
   "cell_type": "code",
   "execution_count": 7,
   "id": "04313711",
   "metadata": {},
   "outputs": [],
   "source": [
    "# CASE 2: No Regression - No candidate commit\n",
    "candidates = analyzer.analyzeBug(\"JacksonDatabind\", 86)['BIC_candidates']\n",
    "assert len(candidates) == 0"
   ]
  },
  {
   "cell_type": "code",
   "execution_count": 8,
   "id": "5b359887",
   "metadata": {},
   "outputs": [],
   "source": [
    "# CASE 2.1: No Regression - No candidate commit\n",
    "candidates = analyzer.analyzeBug(\"Collections\", 28)['BIC_candidates']\n",
    "assert len(candidates) == 0"
   ]
  },
  {
   "cell_type": "code",
   "execution_count": 9,
   "id": "88af525f",
   "metadata": {},
   "outputs": [],
   "source": [
    "# CASE 3: Regresion but with buildability limitations\n",
    "candidates = analyzer.analyzeBug(\"JacksonDatabind\", 52)['BIC_candidates']\n",
    "assert set([905, 906, 907, 908, 909, 910, 911, 912, 915, 919, 920, 921, 922, 923, 924, 925, 926, 927]) <= set(map(lambda c: c[0],candidates))"
   ]
  },
  {
   "cell_type": "code",
   "execution_count": 10,
   "id": "ea32f02c",
   "metadata": {},
   "outputs": [],
   "source": [
    "# CASE 3.1: Regresion but with buildability limitations\n",
    "candidates = analyzer.analyzeBug(\"JacksonDatabind\", 38)['BIC_candidates']\n",
    "assert set([70]) <= set(map(lambda c: c[0],candidates))"
   ]
  },
  {
   "cell_type": "code",
   "execution_count": 11,
   "id": "83ef9c2c",
   "metadata": {},
   "outputs": [],
   "source": [
    "# CASE 4: Use Ant\n",
    "candidates = analyzer.analyzeBug(\"Lang\", 1)['BIC_candidates']\n",
    "assert set() <= set(map(lambda c: c[0],candidates))"
   ]
  },
  {
   "cell_type": "code",
   "execution_count": 12,
   "id": "f702e3dc",
   "metadata": {},
   "outputs": [],
   "source": [
    "# CASE 4.1: Use Ant\n",
    "candidates = analyzer.analyzeBug(\"Mockito\", 1)['BIC_candidates']\n",
    "assert set([1]) <= set(map(lambda c: c[0],candidates))"
   ]
  }
 ],
 "metadata": {
  "kernelspec": {
   "display_name": "Python 3 (ipykernel)",
   "language": "python",
   "name": "python3"
  },
  "language_info": {
   "codemirror_mode": {
    "name": "ipython",
    "version": 3
   },
   "file_extension": ".py",
   "mimetype": "text/x-python",
   "name": "python",
   "nbconvert_exporter": "python",
   "pygments_lexer": "ipython3",
   "version": "3.9.5"
  }
 },
 "nbformat": 4,
 "nbformat_minor": 5
}
