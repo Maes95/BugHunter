{
 "cells": [
  {
   "cell_type": "code",
   "execution_count": 1,
   "id": "31dc1fc8",
   "metadata": {},
   "outputs": [],
   "source": [
    "from Analysis import Analysis"
   ]
  },
  {
   "cell_type": "code",
   "execution_count": 2,
   "id": "ce1164d2",
   "metadata": {},
   "outputs": [],
   "source": [
    "analyzer = Analysis()"
   ]
  },
  {
   "cell_type": "code",
   "execution_count": 3,
   "id": "94b25783",
   "metadata": {
    "scrolled": false
   },
   "outputs": [
    {
     "data": {
      "text/plain": [
       "{'id': 'Time_Bug_7',\n",
       " 'bug': 'Bug_7',\n",
       " 'project': 'Time',\n",
       " 'fix_pass': True,\n",
       " 'prev_fails': True,\n",
       " 'category': 'No regression is detected',\n",
       " 'sub_category': '-',\n",
       " 'test_name': 'org.joda.time.format.TestDateTimeFormatter#testParseInto_monthDay_feb29_newYork_startOfYear',\n",
       " 'bug_report': 'https://github.com/JodaOrg/joda-time/issues/21',\n",
       " 'fix_commit': '1adb1e69863dcd1ff282692bf1452c422528eeb9',\n",
       " 'BIC_candidates': [],\n",
       " 'executionsOnPast': 1,\n",
       " 'buildFail': 0,\n",
       " 'buildTestFail': 0,\n",
       " 'numCommits': 1}"
      ]
     },
     "execution_count": 3,
     "metadata": {},
     "output_type": "execute_result"
    }
   ],
   "source": [
    "# CASE X: ????\n",
    "analyzer.analyzeBug(\"Time\",7, force=True)"
   ]
  }
 ],
 "metadata": {
  "kernelspec": {
   "display_name": "Python 3 (ipykernel)",
   "language": "python",
   "name": "python3"
  },
  "language_info": {
   "codemirror_mode": {
    "name": "ipython",
    "version": 3
   },
   "file_extension": ".py",
   "mimetype": "text/x-python",
   "name": "python",
   "nbconvert_exporter": "python",
   "pygments_lexer": "ipython3",
   "version": "3.9.5"
  }
 },
 "nbformat": 4,
 "nbformat_minor": 5
}
