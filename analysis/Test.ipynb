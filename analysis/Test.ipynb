{
 "cells": [
  {
   "cell_type": "code",
   "execution_count": 1,
   "id": "31dc1fc8",
   "metadata": {},
   "outputs": [],
   "source": [
    "from Analysis import Analysis\n",
    "\n",
    "analyzer = Analysis()"
   ]
  },
  {
   "cell_type": "code",
   "execution_count": 36,
   "id": "94b25783",
   "metadata": {
    "scrolled": false
   },
   "outputs": [
    {
     "data": {
      "text/plain": [
       "{'id': 'Cli_Bug_4',\n",
       " 'bug': 'Bug_4',\n",
       " 'project': 'Cli',\n",
       " 'fix_pass': True,\n",
       " 'prev_fails': True,\n",
       " 'category': 'No regression is detected',\n",
       " 'sub_category': '-',\n",
       " 'test_name': 'testMissingOptionsException',\n",
       " 'bug_report': 'https://issues.apache.org/jira/browse/CLI-1',\n",
       " 'fix_commit': 'f78959477b207bf710049aa35730ef7659f0a1b9',\n",
       " 'BIC_candidates': [],\n",
       " 'executionsOnPast': 98,\n",
       " 'buildFail': 58,\n",
       " 'buildTestFail': 122,\n",
       " 'numCommits': 278,\n",
       " 'transplantability_days': 830,\n",
       " 'transplantability_position': 110}"
      ]
     },
     "execution_count": 36,
     "metadata": {},
     "output_type": "execute_result"
    }
   ],
   "source": [
    "analyzer.analyzeBug(\"Cli\",4,force=True)"
   ]
  }
 ],
 "metadata": {
  "kernelspec": {
   "display_name": "Python 3 (ipykernel)",
   "language": "python",
   "name": "python3"
  },
  "language_info": {
   "codemirror_mode": {
    "name": "ipython",
    "version": 3
   },
   "file_extension": ".py",
   "mimetype": "text/x-python",
   "name": "python",
   "nbconvert_exporter": "python",
   "pygments_lexer": "ipython3",
   "version": "3.9.5"
  }
 },
 "nbformat": 4,
 "nbformat_minor": 5
}
