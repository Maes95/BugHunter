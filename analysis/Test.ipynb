{
 "cells": [
  {
   "cell_type": "code",
   "execution_count": 1,
   "id": "31dc1fc8",
   "metadata": {},
   "outputs": [],
   "source": [
    "from Analysis import Analysis\n",
    "\n",
    "analyzer = Analysis()"
   ]
  },
  {
   "cell_type": "code",
   "execution_count": 5,
   "id": "94b25783",
   "metadata": {
    "scrolled": false
   },
   "outputs": [
    {
     "data": {
      "text/plain": [
       "{'id': 'Jsoup_Bug_78',\n",
       " 'bug': 'Bug_78',\n",
       " 'project': 'Jsoup',\n",
       " 'fix_pass': True,\n",
       " 'prev_fails': True,\n",
       " 'category': 'No regression is detected',\n",
       " 'sub_category': '-',\n",
       " 'test_name': 'handlesEmptyStreamDuringParseRead',\n",
       " 'bug_report': 'https://github.com/jhy/jsoup/issues/980',\n",
       " 'fix_commit': '2c4e79b104c0ff32566ce247617d47c0b39cc2c7',\n",
       " 'BIC_candidates': [],\n",
       " 'executionsOnPast': 13,\n",
       " 'buildFail': 874,\n",
       " 'buildTestFail': 271,\n",
       " 'numCommits': 1158,\n",
       " 'transplantability_days': 131,\n",
       " 'transplantability_position': 13}"
      ]
     },
     "execution_count": 5,
     "metadata": {},
     "output_type": "execute_result"
    }
   ],
   "source": [
    "analyzer.analyzeBug(\"Jsoup\",78,force=True)"
   ]
  },
  {
   "cell_type": "code",
   "execution_count": 6,
   "id": "9a11308c",
   "metadata": {},
   "outputs": [
    {
     "data": {
      "text/plain": [
       "{'id': 'Csv_Bug_13',\n",
       " 'bug': 'Bug_13',\n",
       " 'project': 'Csv',\n",
       " 'fix_pass': True,\n",
       " 'prev_fails': True,\n",
       " 'category': 'No regression is detected',\n",
       " 'sub_category': '-',\n",
       " 'test_name': 'testMySqlNullOutput',\n",
       " 'bug_report': 'https://issues.apache.org/jira/browse/CSV-168',\n",
       " 'fix_commit': 'f8b80e83417c3c7eeed1282118f64fa0e85c4787',\n",
       " 'BIC_candidates': [],\n",
       " 'executionsOnPast': 79,\n",
       " 'buildFail': 800,\n",
       " 'buildTestFail': 133,\n",
       " 'numCommits': 1012,\n",
       " 'transplantability_days': 433,\n",
       " 'transplantability_position': 78}"
      ]
     },
     "execution_count": 6,
     "metadata": {},
     "output_type": "execute_result"
    }
   ],
   "source": [
    "analyzer.analyzeBug(\"Csv\",13,force=True)"
   ]
  }
 ],
 "metadata": {
  "kernelspec": {
   "display_name": "Python 3 (ipykernel)",
   "language": "python",
   "name": "python3"
  },
  "language_info": {
   "codemirror_mode": {
    "name": "ipython",
    "version": 3
   },
   "file_extension": ".py",
   "mimetype": "text/x-python",
   "name": "python",
   "nbconvert_exporter": "python",
   "pygments_lexer": "ipython3",
   "version": "3.9.5"
  }
 },
 "nbformat": 4,
 "nbformat_minor": 5
}
