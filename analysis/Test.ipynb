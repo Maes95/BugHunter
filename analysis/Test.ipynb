{
 "cells": [
  {
   "cell_type": "code",
   "execution_count": 1,
   "id": "31dc1fc8",
   "metadata": {},
   "outputs": [],
   "source": [
    "from Analysis import Analysis\n",
    "\n",
    "analyzer = Analysis()"
   ]
  },
  {
   "cell_type": "code",
   "execution_count": 3,
   "id": "94b25783",
   "metadata": {
    "scrolled": false
   },
   "outputs": [
    {
     "data": {
      "text/plain": [
       "{'id': 'JacksonCore_Bug_23',\n",
       " 'bug': 'Bug_23',\n",
       " 'project': 'JacksonCore',\n",
       " 'fix_pass': True,\n",
       " 'prev_fails': True,\n",
       " 'category': 'No regression is detected',\n",
       " 'sub_category': '-',\n",
       " 'test_name': 'testInvalidSubClass',\n",
       " 'bug_report': 'https://github.com/FasterXML/jackson-core/issues/502',\n",
       " 'fix_commit': '157f2c490003c7494af8ecb7d57880cda1fde736',\n",
       " 'BIC_candidates': [],\n",
       " 'executionsOnPast': 741,\n",
       " 'buildFail': 686,\n",
       " 'buildTestFail': 20,\n",
       " 'numCommits': 1447,\n",
       " 'transplantability_days': 1358,\n",
       " 'transplantability_position': 743}"
      ]
     },
     "execution_count": 3,
     "metadata": {},
     "output_type": "execute_result"
    }
   ],
   "source": [
    "analyzer.analyzeBug(\"JacksonCore\",23,force=True)"
   ]
  },
  {
   "cell_type": "code",
   "execution_count": 4,
   "id": "91690f18",
   "metadata": {},
   "outputs": [
    {
     "data": {
      "text/plain": [
       "{'id': 'JacksonCore_Bug_24',\n",
       " 'bug': 'Bug_24',\n",
       " 'project': 'JacksonCore',\n",
       " 'fix_pass': True,\n",
       " 'prev_fails': True,\n",
       " 'category': 'No regression is detected',\n",
       " 'sub_category': '-',\n",
       " 'test_name': 'testToLongFailing',\n",
       " 'bug_report': 'https://github.com/FasterXML/jackson-core/issues/508',\n",
       " 'fix_commit': 'c4dd84e4d505baa90d8d1675c1f60f8d6ce90db8',\n",
       " 'BIC_candidates': [],\n",
       " 'executionsOnPast': 3,\n",
       " 'buildFail': 1436,\n",
       " 'buildTestFail': 20,\n",
       " 'numCommits': 1459,\n",
       " 'transplantability_days': 0,\n",
       " 'transplantability_position': 2}"
      ]
     },
     "execution_count": 4,
     "metadata": {},
     "output_type": "execute_result"
    }
   ],
   "source": [
    "analyzer.analyzeBug(\"JacksonCore\",24,force=True)"
   ]
  },
  {
   "cell_type": "code",
   "execution_count": 5,
   "id": "c303be23",
   "metadata": {},
   "outputs": [
    {
     "data": {
      "text/plain": [
       "{'id': 'JacksonCore_Bug_26',\n",
       " 'bug': 'Bug_26',\n",
       " 'project': 'JacksonCore',\n",
       " 'fix_pass': True,\n",
       " 'prev_fails': True,\n",
       " 'category': 'No regression is detected',\n",
       " 'sub_category': '-',\n",
       " 'test_name': 'testLocationOffsets',\n",
       " 'bug_report': 'https://github.com/FasterXML/jackson-core/issues/531',\n",
       " 'fix_commit': 'd83ce8aec99f4e99afdf8fd172d77ce771f8ea35',\n",
       " 'BIC_candidates': [],\n",
       " 'executionsOnPast': 90,\n",
       " 'buildFail': 1366,\n",
       " 'buildTestFail': 20,\n",
       " 'numCommits': 1476,\n",
       " 'transplantability_days': 317,\n",
       " 'transplantability_position': 90}"
      ]
     },
     "execution_count": 5,
     "metadata": {},
     "output_type": "execute_result"
    }
   ],
   "source": [
    "analyzer.analyzeBug(\"JacksonCore\",26,force=True)"
   ]
  }
 ],
 "metadata": {
  "kernelspec": {
   "display_name": "Python 3 (ipykernel)",
   "language": "python",
   "name": "python3"
  },
  "language_info": {
   "codemirror_mode": {
    "name": "ipython",
    "version": 3
   },
   "file_extension": ".py",
   "mimetype": "text/x-python",
   "name": "python",
   "nbconvert_exporter": "python",
   "pygments_lexer": "ipython3",
   "version": "3.9.5"
  }
 },
 "nbformat": 4,
 "nbformat_minor": 5
}
