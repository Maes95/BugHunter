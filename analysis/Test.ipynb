{
 "cells": [
  {
   "cell_type": "code",
   "execution_count": 1,
   "id": "31dc1fc8",
   "metadata": {},
   "outputs": [],
   "source": [
    "from Analysis import Analysis\n",
    "\n",
    "analyzer = Analysis()"
   ]
  },
  {
   "cell_type": "code",
   "execution_count": 14,
   "id": "94b25783",
   "metadata": {
    "scrolled": false
   },
   "outputs": [
    {
     "data": {
      "text/plain": [
       "{'id': 'Compress_Bug_31',\n",
       " 'bug': 'Bug_31',\n",
       " 'project': 'Compress',\n",
       " 'fix_pass': True,\n",
       " 'prev_fails': True,\n",
       " 'category': 'No regression is detected',\n",
       " 'sub_category': '-',\n",
       " 'test_name': 'org.apache.commons.compress.archivers.TarTestCase#testCOMPRESS178',\n",
       " 'bug_report': 'https://issues.apache.org/jira/browse/COMPRESS-301',\n",
       " 'fix_commit': 'f8bf45444c49053a92f6f560c5008d5ac43aa27f',\n",
       " 'BIC_candidates': [],\n",
       " 'executionsOnPast': 696,\n",
       " 'buildFail': 898,\n",
       " 'buildTestFail': 13,\n",
       " 'numCommits': 1607,\n",
       " 'transplantability_days': 1055,\n",
       " 'transplantability_position': 705}"
      ]
     },
     "execution_count": 14,
     "metadata": {},
     "output_type": "execute_result"
    }
   ],
   "source": [
    "analyzer.analyzeBug(\"Compress\",31,force=True)"
   ]
  }
 ],
 "metadata": {
  "kernelspec": {
   "display_name": "Python 3 (ipykernel)",
   "language": "python",
   "name": "python3"
  },
  "language_info": {
   "codemirror_mode": {
    "name": "ipython",
    "version": 3
   },
   "file_extension": ".py",
   "mimetype": "text/x-python",
   "name": "python",
   "nbconvert_exporter": "python",
   "pygments_lexer": "ipython3",
   "version": "3.9.5"
  }
 },
 "nbformat": 4,
 "nbformat_minor": 5
}
