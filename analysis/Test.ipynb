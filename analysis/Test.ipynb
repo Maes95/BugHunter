{
 "cells": [
  {
   "cell_type": "code",
   "execution_count": 1,
   "id": "31dc1fc8",
   "metadata": {},
   "outputs": [],
   "source": [
    "from Analysis import Analysis\n",
    "\n",
    "analyzer = Analysis()"
   ]
  },
  {
   "cell_type": "code",
   "execution_count": 2,
   "id": "94b25783",
   "metadata": {
    "scrolled": false
   },
   "outputs": [
    {
     "data": {
      "text/plain": [
       "{'id': 'Time_Bug_1',\n",
       " 'bug': 'Bug_1',\n",
       " 'project': 'Time',\n",
       " 'fix_pass': True,\n",
       " 'prev_fails': True,\n",
       " 'category': 'A regression is detected',\n",
       " 'sub_category': 'Unique candidates',\n",
       " 'test_name': 'org.joda.time.TestPartial_Constructors#testConstructorEx7_TypeArray_intArray',\n",
       " 'bug_report': 'https://github.com/JodaOrg/joda-time/issues/93',\n",
       " 'fix_commit': '9a62b06be5d0df8e833ff8583398cca386608cac',\n",
       " 'BIC_candidates': [(1, '8612f9e5b88c1bea933ef9ab1e431f5db3006b48')],\n",
       " 'bic_position': 1,\n",
       " 'executionsOnPast': 151,\n",
       " 'buildFail': 0,\n",
       " 'buildTestFail': 1493,\n",
       " 'numCommits': 1717,\n",
       " 'transplantability_days': 931,\n",
       " 'transplantability_position': 223}"
      ]
     },
     "execution_count": 2,
     "metadata": {},
     "output_type": "execute_result"
    }
   ],
   "source": [
    "analyzer.analyzeBug(\"Time\",1, force=True)"
   ]
  }
 ],
 "metadata": {
  "kernelspec": {
   "display_name": "Python 3 (ipykernel)",
   "language": "python",
   "name": "python3"
  },
  "language_info": {
   "codemirror_mode": {
    "name": "ipython",
    "version": 3
   },
   "file_extension": ".py",
   "mimetype": "text/x-python",
   "name": "python",
   "nbconvert_exporter": "python",
   "pygments_lexer": "ipython3",
   "version": "3.9.5"
  }
 },
 "nbformat": 4,
 "nbformat_minor": 5
}
