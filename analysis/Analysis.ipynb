{
 "cells": [
  {
   "cell_type": "markdown",
   "id": "4cab4e82",
   "metadata": {},
   "source": [
    "# Data Analysis"
   ]
  },
  {
   "cell_type": "code",
   "execution_count": 1,
   "id": "e36ee718",
   "metadata": {},
   "outputs": [],
   "source": [
    "import pandas as pd \n",
    "import glob\n",
    "import re\n",
    "import sys\n",
    "import concurrent.futures\n",
    "from Analysis import Analysis\n",
    "\n",
    "pd.set_option('display.max_rows', 100)"
   ]
  },
  {
   "cell_type": "markdown",
   "id": "f4109fed",
   "metadata": {},
   "source": [
    "### Calculate the result for each bug"
   ]
  },
  {
   "cell_type": "code",
   "execution_count": 2,
   "id": "851b4eee",
   "metadata": {
    "scrolled": false
   },
   "outputs": [],
   "source": [
    "root = \"/home/jovyan/work\"\n",
    "analyzer = Analysis(root)\n",
    "\n",
    "projects = [\n",
    "    \"JacksonXml\", \"Time\", \"Collections\", \"Compress\", \"Csv\", \"JacksonCore\", \"JacksonDatabind\", \"Gson\", \"Jsoup\",\n",
    "    \"Lang\", \"Math\", \"Closure\", \"Mockito\"\n",
    "]\n",
    "future_results = []\n",
    "with concurrent.futures.ThreadPoolExecutor() as executor:\n",
    "    for project in projects:\n",
    "        # FOR EACH BUG\n",
    "        for bug_path in glob.glob(\"{root}/results/{project}/Bug_*/\".format(root=root, project=project)):\n",
    "            bug = re.search(r\"Bug_(\\d+)\", bug_path).group(1)\n",
    "            try:\n",
    "                future = executor.submit(analyzer.analyzeBug, project, bug, False)\n",
    "                future_results.append(future)\n",
    "            except Exception as e:\n",
    "                print(bug_path)\n",
    "                print(e)\n",
    "bug_results = [future.result() for future in future_results]"
   ]
  },
  {
   "cell_type": "markdown",
   "id": "74a66ec7",
   "metadata": {},
   "source": [
    "### Example of bug result when a BIC detected)"
   ]
  },
  {
   "cell_type": "code",
   "execution_count": 11,
   "id": "be749f4d",
   "metadata": {},
   "outputs": [
    {
     "data": {
      "text/plain": [
       "{'id': 'Time_Bug_1',\n",
       " 'bug': 'Bug_1',\n",
       " 'project': 'Time',\n",
       " 'fix_pass': True,\n",
       " 'prev_fails': True,\n",
       " 'category': 'A regression is detected',\n",
       " 'sub_category': 'Unique candidates',\n",
       " 'test_name': 'org.joda.time.TestPartial_Constructors#testConstructorEx7_TypeArray_intArray',\n",
       " 'bug_report': 'https://github.com/JodaOrg/joda-time/issues/93',\n",
       " 'fix_commit': '9a62b06be5d0df8e833ff8583398cca386608cac',\n",
       " 'BIC_candidates': [[1, '8612f9e5b88c1bea933ef9ab1e431f5db3006b48']],\n",
       " 'executionsOnPastSequentially': 150,\n",
       " 'executionsOnPast': 151,\n",
       " 'numCommits': 1717}"
      ]
     },
     "execution_count": 11,
     "metadata": {},
     "output_type": "execute_result"
    }
   ],
   "source": [
    "bug_results[9]"
   ]
  },
  {
   "cell_type": "markdown",
   "id": "b7f854ea",
   "metadata": {},
   "source": [
    "## RQ0: “Can regression tests be transplanted to the past?”"
   ]
  },
  {
   "cell_type": "code",
   "execution_count": 3,
   "id": "81b1da23",
   "metadata": {},
   "outputs": [
    {
     "data": {
      "text/html": [
       "<div>\n",
       "<style scoped>\n",
       "    .dataframe tbody tr th:only-of-type {\n",
       "        vertical-align: middle;\n",
       "    }\n",
       "\n",
       "    .dataframe tbody tr th {\n",
       "        vertical-align: top;\n",
       "    }\n",
       "\n",
       "    .dataframe thead th {\n",
       "        text-align: right;\n",
       "    }\n",
       "</style>\n",
       "<table border=\"1\" class=\"dataframe\">\n",
       "  <thead>\n",
       "    <tr style=\"text-align: right;\">\n",
       "      <th></th>\n",
       "      <th>proyect</th>\n",
       "      <th>ratio_mean</th>\n",
       "      <th>ratio_median</th>\n",
       "      <th>commits_mean</th>\n",
       "      <th>commits_median</th>\n",
       "    </tr>\n",
       "    <tr>\n",
       "      <th>project</th>\n",
       "      <th></th>\n",
       "      <th></th>\n",
       "      <th></th>\n",
       "      <th></th>\n",
       "      <th></th>\n",
       "    </tr>\n",
       "  </thead>\n",
       "  <tbody>\n",
       "    <tr>\n",
       "      <th>Closure</th>\n",
       "      <td>147</td>\n",
       "      <td>30.70</td>\n",
       "      <td>15.40</td>\n",
       "      <td>1566.98</td>\n",
       "      <td>1649.0</td>\n",
       "    </tr>\n",
       "    <tr>\n",
       "      <th>Collections</th>\n",
       "      <td>2</td>\n",
       "      <td>3.77</td>\n",
       "      <td>3.77</td>\n",
       "      <td>2825.50</td>\n",
       "      <td>2825.5</td>\n",
       "    </tr>\n",
       "    <tr>\n",
       "      <th>Compress</th>\n",
       "      <td>40</td>\n",
       "      <td>16.55</td>\n",
       "      <td>8.16</td>\n",
       "      <td>1496.35</td>\n",
       "      <td>1518.0</td>\n",
       "    </tr>\n",
       "    <tr>\n",
       "      <th>Csv</th>\n",
       "      <td>15</td>\n",
       "      <td>5.03</td>\n",
       "      <td>3.44</td>\n",
       "      <td>809.93</td>\n",
       "      <td>797.0</td>\n",
       "    </tr>\n",
       "    <tr>\n",
       "      <th>Gson</th>\n",
       "      <td>18</td>\n",
       "      <td>70.29</td>\n",
       "      <td>98.07</td>\n",
       "      <td>686.28</td>\n",
       "      <td>774.5</td>\n",
       "    </tr>\n",
       "    <tr>\n",
       "      <th>JacksonCore</th>\n",
       "      <td>23</td>\n",
       "      <td>36.72</td>\n",
       "      <td>30.50</td>\n",
       "      <td>786.96</td>\n",
       "      <td>823.0</td>\n",
       "    </tr>\n",
       "    <tr>\n",
       "      <th>JacksonDatabind</th>\n",
       "      <td>97</td>\n",
       "      <td>15.78</td>\n",
       "      <td>16.01</td>\n",
       "      <td>2757.55</td>\n",
       "      <td>2871.0</td>\n",
       "    </tr>\n",
       "    <tr>\n",
       "      <th>JacksonXml</th>\n",
       "      <td>3</td>\n",
       "      <td>37.66</td>\n",
       "      <td>36.21</td>\n",
       "      <td>618.67</td>\n",
       "      <td>603.0</td>\n",
       "    </tr>\n",
       "    <tr>\n",
       "      <th>Jsoup</th>\n",
       "      <td>91</td>\n",
       "      <td>17.83</td>\n",
       "      <td>10.00</td>\n",
       "      <td>781.63</td>\n",
       "      <td>843.0</td>\n",
       "    </tr>\n",
       "    <tr>\n",
       "      <th>Lang</th>\n",
       "      <td>58</td>\n",
       "      <td>12.83</td>\n",
       "      <td>9.67</td>\n",
       "      <td>2384.50</td>\n",
       "      <td>2411.0</td>\n",
       "    </tr>\n",
       "    <tr>\n",
       "      <th>Math</th>\n",
       "      <td>103</td>\n",
       "      <td>11.96</td>\n",
       "      <td>6.08</td>\n",
       "      <td>2507.26</td>\n",
       "      <td>2249.0</td>\n",
       "    </tr>\n",
       "    <tr>\n",
       "      <th>Mockito</th>\n",
       "      <td>36</td>\n",
       "      <td>25.65</td>\n",
       "      <td>25.22</td>\n",
       "      <td>1782.42</td>\n",
       "      <td>1541.0</td>\n",
       "    </tr>\n",
       "    <tr>\n",
       "      <th>Time</th>\n",
       "      <td>12</td>\n",
       "      <td>5.06</td>\n",
       "      <td>5.17</td>\n",
       "      <td>1651.42</td>\n",
       "      <td>1651.5</td>\n",
       "    </tr>\n",
       "  </tbody>\n",
       "</table>\n",
       "</div>"
      ],
      "text/plain": [
       "                 proyect  ratio_mean  ratio_median  commits_mean  \\\n",
       "project                                                            \n",
       "Closure              147       30.70         15.40       1566.98   \n",
       "Collections            2        3.77          3.77       2825.50   \n",
       "Compress              40       16.55          8.16       1496.35   \n",
       "Csv                   15        5.03          3.44        809.93   \n",
       "Gson                  18       70.29         98.07        686.28   \n",
       "JacksonCore           23       36.72         30.50        786.96   \n",
       "JacksonDatabind       97       15.78         16.01       2757.55   \n",
       "JacksonXml             3       37.66         36.21        618.67   \n",
       "Jsoup                 91       17.83         10.00        781.63   \n",
       "Lang                  58       12.83          9.67       2384.50   \n",
       "Math                 103       11.96          6.08       2507.26   \n",
       "Mockito               36       25.65         25.22       1782.42   \n",
       "Time                  12        5.06          5.17       1651.42   \n",
       "\n",
       "                 commits_median  \n",
       "project                          \n",
       "Closure                  1649.0  \n",
       "Collections              2825.5  \n",
       "Compress                 1518.0  \n",
       "Csv                       797.0  \n",
       "Gson                      774.5  \n",
       "JacksonCore               823.0  \n",
       "JacksonDatabind          2871.0  \n",
       "JacksonXml                603.0  \n",
       "Jsoup                     843.0  \n",
       "Lang                     2411.0  \n",
       "Math                     2249.0  \n",
       "Mockito                  1541.0  \n",
       "Time                     1651.5  "
      ]
     },
     "execution_count": 3,
     "metadata": {},
     "output_type": "execute_result"
    }
   ],
   "source": [
    "resume_df= pd.DataFrame(bug_results)[['id', 'project','executionsOnPast', 'numCommits']]\n",
    "resume_df = resume_df[resume_df['numCommits'] > 1]\n",
    "resume_df['executionsOnPast_rate'] = resume_df.apply (lambda row: row['executionsOnPast'] * 100 / row['numCommits'], axis=1)\n",
    "resume_df.groupby('project').agg(\n",
    "    proyect=('project','size'), \n",
    "    ratio_mean=('executionsOnPast_rate','mean'), \n",
    "    ratio_median=('executionsOnPast_rate','median'),\n",
    "    commits_mean=('numCommits','mean'),\n",
    "    commits_median=('numCommits','median')\n",
    ").round(2)"
   ]
  },
  {
   "cell_type": "code",
   "execution_count": 4,
   "id": "e954954f",
   "metadata": {},
   "outputs": [
    {
     "data": {
      "text/plain": [
       "21.075428838804818"
      ]
     },
     "execution_count": 4,
     "metadata": {},
     "output_type": "execute_result"
    }
   ],
   "source": [
    "resume_df['executionsOnPast_rate'].mean()"
   ]
  },
  {
   "cell_type": "code",
   "execution_count": 5,
   "id": "4882e509",
   "metadata": {},
   "outputs": [
    {
     "data": {
      "text/plain": [
       "12.244897959183673"
      ]
     },
     "execution_count": 5,
     "metadata": {},
     "output_type": "execute_result"
    }
   ],
   "source": [
    "resume_df['executionsOnPast_rate'].median()"
   ]
  },
  {
   "cell_type": "markdown",
   "id": "d2fd5e3d",
   "metadata": {},
   "source": [
    "## RQ1: “Can the BIC for a given bug be found using its regression test?”"
   ]
  },
  {
   "cell_type": "markdown",
   "id": "924ac5a9",
   "metadata": {},
   "source": [
    "### Summary of results"
   ]
  },
  {
   "cell_type": "code",
   "execution_count": 6,
   "id": "dfe5a7fd",
   "metadata": {},
   "outputs": [
    {
     "name": "stdout",
     "output_type": "stream",
     "text": [
      "730\n"
     ]
    },
    {
     "data": {
      "text/plain": [
       "No regression is detected       570\n",
       "Test fails in the fix commit     85\n",
       "A regression is detected         75\n",
       "Name: category, dtype: int64"
      ]
     },
     "execution_count": 6,
     "metadata": {},
     "output_type": "execute_result"
    }
   ],
   "source": [
    "df = pd.DataFrame(bug_results)[['id', 'project','category', 'sub_category']]\n",
    "df[df['category'] != None].set_index('id').sort_index()\n",
    "print(len(df))\n",
    "df['category'].value_counts()"
   ]
  },
  {
   "cell_type": "markdown",
   "id": "4e04dc1e",
   "metadata": {},
   "source": [
    "### Results per sub-catergory"
   ]
  },
  {
   "cell_type": "code",
   "execution_count": 7,
   "id": "e3db8885",
   "metadata": {
    "scrolled": true
   },
   "outputs": [
    {
     "data": {
      "text/plain": [
       "category                      sub_category             \n",
       "A regression is detected      Multiple candidates           26\n",
       "                              Unique candidates             49\n",
       "No regression is detected     -                            570\n",
       "Test fails in the fix commit  Failure in source build       60\n",
       "                              Failure in test build          3\n",
       "                              Test execution fails           6\n",
       "                              The test was not executed     16\n",
       "Name: id, dtype: int64"
      ]
     },
     "execution_count": 7,
     "metadata": {},
     "output_type": "execute_result"
    }
   ],
   "source": [
    "df.groupby(['category', \"sub_category\"]).count()['id']"
   ]
  },
  {
   "cell_type": "markdown",
   "id": "49dfb230",
   "metadata": {},
   "source": [
    "### Test fails in the fix commit - Test execution fails"
   ]
  },
  {
   "cell_type": "code",
   "execution_count": 8,
   "id": "bd3ff8ee",
   "metadata": {
    "scrolled": false
   },
   "outputs": [
    {
     "data": {
      "text/html": [
       "<div>\n",
       "<style scoped>\n",
       "    .dataframe tbody tr th:only-of-type {\n",
       "        vertical-align: middle;\n",
       "    }\n",
       "\n",
       "    .dataframe tbody tr th {\n",
       "        vertical-align: top;\n",
       "    }\n",
       "\n",
       "    .dataframe thead th {\n",
       "        text-align: right;\n",
       "    }\n",
       "</style>\n",
       "<table border=\"1\" class=\"dataframe\">\n",
       "  <thead>\n",
       "    <tr style=\"text-align: right;\">\n",
       "      <th></th>\n",
       "      <th>id</th>\n",
       "      <th>project</th>\n",
       "      <th>category</th>\n",
       "      <th>sub_category</th>\n",
       "    </tr>\n",
       "  </thead>\n",
       "  <tbody>\n",
       "    <tr>\n",
       "      <th>12</th>\n",
       "      <td>Time_Bug_9</td>\n",
       "      <td>Time</td>\n",
       "      <td>Test fails in the fix commit</td>\n",
       "      <td>Test execution fails</td>\n",
       "    </tr>\n",
       "    <tr>\n",
       "      <th>16</th>\n",
       "      <td>Time_Bug_8</td>\n",
       "      <td>Time</td>\n",
       "      <td>Test fails in the fix commit</td>\n",
       "      <td>Test execution fails</td>\n",
       "    </tr>\n",
       "    <tr>\n",
       "      <th>23</th>\n",
       "      <td>Time_Bug_7</td>\n",
       "      <td>Time</td>\n",
       "      <td>Test fails in the fix commit</td>\n",
       "      <td>Test execution fails</td>\n",
       "    </tr>\n",
       "    <tr>\n",
       "      <th>26</th>\n",
       "      <td>Time_Bug_16</td>\n",
       "      <td>Time</td>\n",
       "      <td>Test fails in the fix commit</td>\n",
       "      <td>Test execution fails</td>\n",
       "    </tr>\n",
       "    <tr>\n",
       "      <th>257</th>\n",
       "      <td>Jsoup_Bug_67</td>\n",
       "      <td>Jsoup</td>\n",
       "      <td>Test fails in the fix commit</td>\n",
       "      <td>Test execution fails</td>\n",
       "    </tr>\n",
       "    <tr>\n",
       "      <th>334</th>\n",
       "      <td>Jsoup_Bug_78</td>\n",
       "      <td>Jsoup</td>\n",
       "      <td>Test fails in the fix commit</td>\n",
       "      <td>Test execution fails</td>\n",
       "    </tr>\n",
       "  </tbody>\n",
       "</table>\n",
       "</div>"
      ],
      "text/plain": [
       "               id project                      category          sub_category\n",
       "12     Time_Bug_9    Time  Test fails in the fix commit  Test execution fails\n",
       "16     Time_Bug_8    Time  Test fails in the fix commit  Test execution fails\n",
       "23     Time_Bug_7    Time  Test fails in the fix commit  Test execution fails\n",
       "26    Time_Bug_16    Time  Test fails in the fix commit  Test execution fails\n",
       "257  Jsoup_Bug_67   Jsoup  Test fails in the fix commit  Test execution fails\n",
       "334  Jsoup_Bug_78   Jsoup  Test fails in the fix commit  Test execution fails"
      ]
     },
     "execution_count": 8,
     "metadata": {},
     "output_type": "execute_result"
    }
   ],
   "source": [
    "df[df['sub_category']=='Test execution fails']"
   ]
  }
 ],
 "metadata": {
  "interpreter": {
   "hash": "d4d1e4263499bec80672ea0156c357c1ee493ec2b1c70f0acce89fc37c4a6abe"
  },
  "kernelspec": {
   "display_name": "Python 3 (ipykernel)",
   "language": "python",
   "name": "python3"
  },
  "language_info": {
   "codemirror_mode": {
    "name": "ipython",
    "version": 3
   },
   "file_extension": ".py",
   "mimetype": "text/x-python",
   "name": "python",
   "nbconvert_exporter": "python",
   "pygments_lexer": "ipython3",
   "version": "3.9.5"
  }
 },
 "nbformat": 4,
 "nbformat_minor": 5
}
