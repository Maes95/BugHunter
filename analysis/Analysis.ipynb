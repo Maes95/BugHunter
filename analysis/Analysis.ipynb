{
 "cells": [
  {
   "cell_type": "code",
   "execution_count": 1,
   "id": "0833f58d",
   "metadata": {},
   "outputs": [],
   "source": [
    "import pandas as pd \n",
    "import os\n",
    "import json\n",
    "import glob\n",
    "import re\n",
    "import sys\n",
    "import concurrent.futures\n",
    "sys.setrecursionlimit(20000) # Current limit = 999\n",
    "\n",
    "from CommitGraph import CommitGraph"
   ]
  },
  {
   "cell_type": "code",
   "execution_count": 2,
   "id": "bd7affea",
   "metadata": {},
   "outputs": [],
   "source": [
    "def createDirIfNotExists(folder_name):\n",
    "    if not os.path.isdir(folder_name): \n",
    "        os.makedirs(folder_name)"
   ]
  },
  {
   "cell_type": "code",
   "execution_count": 3,
   "id": "4fe87aef",
   "metadata": {},
   "outputs": [],
   "source": [
    "root=\"/home/jovyan/work\"\n",
    "analysis_results_path = root + \"/analysis/results/\"\n",
    "createDirIfNotExists(analysis_results_path)"
   ]
  },
  {
   "cell_type": "code",
   "execution_count": 39,
   "id": "fef2fd5a",
   "metadata": {},
   "outputs": [],
   "source": [
    "def searchRegression(graph, init_node):\n",
    "    candidates = []\n",
    "    visited = []\n",
    "    queue = []   \n",
    "\n",
    "    visited.append(init_node)\n",
    "    queue.append(init_node)\n",
    "\n",
    "    while queue:\n",
    "        node = queue.pop(0)  \n",
    "\n",
    "        successParents = True\n",
    "        parents = graph[node['commit']]['parents']\n",
    "\n",
    "        for parent_hash in parents:\n",
    "            if parent_hash not in graph: return [] # Reach final commit or experiment is limited\n",
    "            parent = graph[parent_hash]\n",
    "            successParent = parent['State'] == \"TestSuccess\"\n",
    "            successParents = successParents and successParent\n",
    "            if not successParent and parent_hash not in visited:\n",
    "                if parent['State'] in [\"BuildError\", \"TestBuildError\"]:\n",
    "                    candidates.append(node)\n",
    "                if parent['State'] == \"TestFail\":\n",
    "                    candidates = []\n",
    "                visited.append(parent_hash)\n",
    "                queue.append(parent)\n",
    "    \n",
    "        if successParents and node['State'] != \"TestSuccess\":\n",
    "            candidates = candidates + [node]\n",
    "            if len(parents) == 1 and node['State'] == 'TestFail': return [node]\n",
    "\n",
    "    return candidates"
   ]
  },
  {
   "cell_type": "code",
   "execution_count": 5,
   "id": "e8b94534",
   "metadata": {},
   "outputs": [],
   "source": [
    "def analyzeBug(project, bug_id):\n",
    "    \n",
    "    bug_name = \"Bug_\"+str(bug_id)\n",
    "    bug_path = \"{root}/results/{project}/{bug_name}/\".format(root=root, project=project, bug_name=bug_name)\n",
    "    \n",
    "    with open(\"{root}/configFiles/{project}/bugs/{bug_name}.json\".format(root=root,project=project, bug_name=bug_name)) as f:\n",
    "        bug_info = json.load(f)\n",
    "        \n",
    "    test_name = re.search(r\"-Dtest=(.*) test\",bug_info['test_command']).group(1)\n",
    "\n",
    "    bug_result = {\n",
    "        'id': project + \"_\" + bug_name,\n",
    "        'bug': bug_name,\n",
    "        'project': project,\n",
    "        \"fix_pass\": True,\n",
    "        \"prev_fails\": True,\n",
    "        \"category\": None,\n",
    "        \"sub_category\": \"-\",\n",
    "        \"test_name\": test_name,\n",
    "        \"bug_report\": bug_info['bug_report'],\n",
    "        \"fix_commit\": bug_info['fix_commit'],\n",
    "        \"BIC_candidates\": []\n",
    "    }\n",
    "    \n",
    "    if not os.path.isfile(bug_path+'commit_history.csv'):\n",
    "        print(bug_path+'commit_history.csv')\n",
    "        bug_result['category'] = \"Other error\"\n",
    "        return bug_result\n",
    "    \n",
    "    results_dir = analysis_results_path+\"{project}/{bug_name}/\".format(project=project, bug_name=bug_name)\n",
    "    createDirIfNotExists(results_dir)\n",
    "\n",
    "    commit_graph = CommitGraph(project, bug_id, bug_path, results_dir, restore=True)\n",
    "    \n",
    "    fix_commit = commit_graph.graph[bug_info['fix_commit']]\n",
    "\n",
    "    \n",
    "    if not fix_commit['ExecuteTest']: # FIX COMMIT - SHOULD PASS\n",
    "        \n",
    "        bug_result['category'] = \"Test fails in the fix commit\"\n",
    "        bug_result['fix_pass'] = False\n",
    "        bug_result['prev_fails'] = None\n",
    "        \n",
    "        if fix_commit['Build']:\n",
    "            if fix_commit['BuildTest']:\n",
    "                if not fix_commit['HasTestReport']:\n",
    "                    bug_result['sub_category'] = \"The test was not executed\"\n",
    "                else:\n",
    "                    bug_result['sub_category'] = \"Test execution fails\"\n",
    "            else:\n",
    "                bug_result['sub_category'] = \"Failure in test build\"\n",
    "        else:\n",
    "            bug_result['sub_category'] = \"Failure in source build\"\n",
    "    \n",
    "    else: \n",
    "\n",
    "        # SEARCH REGRESSION\n",
    "        candidates = searchRegression(commit_graph.graph, fix_commit)\n",
    "        if len(candidates) > 0:\n",
    "\n",
    "            bug_result['BIC_candidates'] = list(map(lambda c: (c['id'],c['commit'] ),candidates))\n",
    "            bug_result['category'] = \"A regression is detected\"\n",
    "\n",
    "            if len(candidates) == 1:\n",
    "                bug_result['sub_category'] = \"Unique candidates\" \n",
    "            else:\n",
    "                bug_result['sub_category'] = \"Multiple candidates\" \n",
    "\n",
    "        # SEARCH OTHER BIC\n",
    "        else:\n",
    "            bug_result['category'] = \"No regression is detected\"\n",
    "            bug_result['sub_category'] = \"-\"\n",
    "\n",
    "#             success_test_build = [ r for r in results if r['BuildTest'] ]\n",
    "#             candidate_commit = success_test_build[-1]\n",
    "#             if candidate_commit['id']+1 == len(results):\n",
    "#                 # Candidate commit is first commit\n",
    "#                 bug_result['sub_category'] = \"Reach first commit\"\n",
    "#             else:\n",
    "#                 candidate_commit_antecesor = results[candidate_commit['id']+1]\n",
    "#                 if candidate_commit_antecesor['Build']:\n",
    "#                     bug_result['sub_category'] = \"Failure in test build\"\n",
    "#                 else:\n",
    "#                     bug_result['sub_category'] = \"Failure in source build\" \n",
    "#             bug_result['BIC_candidates'] = [(candidate_commit['commit'][0:8])]\n",
    "#             bug_result['category'] = \"No regression is detected\"\n",
    "    \n",
    "    # Save bug result\n",
    "    with open(results_dir+\"bug_result.json\",'w+') as json_file:\n",
    "        json.dump(bug_result, json_file, indent=4)\n",
    "\n",
    "    return bug_result"
   ]
  },
  {
   "cell_type": "code",
   "execution_count": 6,
   "id": "79bec9ce",
   "metadata": {},
   "outputs": [
    {
     "data": {
      "text/plain": [
       "[(162, '30a2670b336c3a4e4dee57460577b4bcc4b9e9b6')]"
      ]
     },
     "execution_count": 6,
     "metadata": {},
     "output_type": "execute_result"
    }
   ],
   "source": [
    "# CASE 1: Regression - Bug at commit 162\n",
    "results = analyzeBug(\"JacksonCore\", 11)['BIC_candidates']\n",
    "results"
   ]
  },
  {
   "cell_type": "code",
   "execution_count": 7,
   "id": "9049cdfd",
   "metadata": {},
   "outputs": [
    {
     "data": {
      "text/plain": [
       "[]"
      ]
     },
     "execution_count": 7,
     "metadata": {},
     "output_type": "execute_result"
    }
   ],
   "source": [
    "# CASE 2: No Regression - No candidate commit\n",
    "results = analyzeBug(\"JacksonDatabind\", 86)['BIC_candidates']\n",
    "#results = analyzeBug(\"JacksonDatabind\", 17)['BIC_candidates']\n",
    "len(results)\n",
    "results"
   ]
  },
  {
   "cell_type": "code",
   "execution_count": 8,
   "id": "22900cd8",
   "metadata": {},
   "outputs": [
    {
     "data": {
      "text/plain": [
       "181"
      ]
     },
     "execution_count": 8,
     "metadata": {},
     "output_type": "execute_result"
    }
   ],
   "source": [
    "# CASE 3: Regresion but with buildability limitations\n",
    "results = analyzeBug(\"JacksonDatabind\", 38)['BIC_candidates']\n",
    "len(results)"
   ]
  },
  {
   "cell_type": "code",
   "execution_count": 40,
   "id": "b98c5663",
   "metadata": {},
   "outputs": [
    {
     "data": {
      "text/plain": [
       "1"
      ]
     },
     "execution_count": 40,
     "metadata": {},
     "output_type": "execute_result"
    }
   ],
   "source": [
    "# CASE 4: Error at JacksonCore\", 10\n",
    "results = analyzeBug(\"JacksonCore\", 10)['BIC_candidates']\n",
    "len(results)"
   ]
  },
  {
   "cell_type": "code",
   "execution_count": 41,
   "id": "851b4eee",
   "metadata": {
    "scrolled": false
   },
   "outputs": [],
   "source": [
    "projects = [\n",
    "    \"JacksonXml\", \"Time\", \"Collections\", \"Compress\", \"Csv\", \"JacksonCore\", \"JacksonDatabind\", \"Gson\", \"Jsoup\"\n",
    "]\n",
    "future_results = []\n",
    "with concurrent.futures.ThreadPoolExecutor() as executor:\n",
    "    for project in projects:\n",
    "        # FOR EACH BUG\n",
    "        for bug_path in glob.glob(\"{root}/results/{project}/Bug_*/\".format(root=root, project=project)):\n",
    "            bug = re.search(r\"Bug_(\\d+)\", bug_path).group(1)\n",
    "            try:\n",
    "                future = executor.submit(analyzeBug, project, bug)\n",
    "                future_results.append(future)\n",
    "            except Exception as e:\n",
    "                print(bug_path)\n",
    "                print(e)\n",
    "bug_results = [future.result() for future in future_results]"
   ]
  },
  {
   "cell_type": "code",
   "execution_count": 43,
   "id": "dfe5a7fd",
   "metadata": {},
   "outputs": [
    {
     "name": "stdout",
     "output_type": "stream",
     "text": [
      "348\n"
     ]
    },
    {
     "data": {
      "text/plain": [
       "No regression is detected       262\n",
       "Test fails in the fix commit     47\n",
       "A regression is detected         39\n",
       "Name: category, dtype: int64"
      ]
     },
     "execution_count": 43,
     "metadata": {},
     "output_type": "execute_result"
    }
   ],
   "source": [
    "df = pd.DataFrame(bug_results)[['id', 'category', 'sub_category']]\n",
    "df[df['category'] != None].set_index('id').sort_index()\n",
    "print(len(df))\n",
    "df['category'].value_counts()"
   ]
  },
  {
   "cell_type": "code",
   "execution_count": 44,
   "id": "e3db8885",
   "metadata": {},
   "outputs": [
    {
     "data": {
      "text/plain": [
       "category                      sub_category             \n",
       "A regression is detected      Multiple candidates           17\n",
       "                              Unique candidates             22\n",
       "No regression is detected     -                            262\n",
       "Test fails in the fix commit  Failure in source build       22\n",
       "                              Failure in test build          3\n",
       "                              Test execution fails           6\n",
       "                              The test was not executed     16\n",
       "Name: id, dtype: int64"
      ]
     },
     "execution_count": 44,
     "metadata": {},
     "output_type": "execute_result"
    }
   ],
   "source": [
    "#df[df['category']=='Test failed at fix commit']\n",
    "df.groupby(['category', \"sub_category\"]).count()['id']"
   ]
  },
  {
   "cell_type": "code",
   "execution_count": 20,
   "id": "0c8f426f",
   "metadata": {},
   "outputs": [
    {
     "data": {
      "text/plain": [
       "category                      sub_category        \n",
       "A regression is detected      Unique candidates        8\n",
       "No regression is detected     -                       83\n",
       "Test fails in the fix commit  Test execution fails     2\n",
       "Name: id, dtype: int64"
      ]
     },
     "execution_count": 20,
     "metadata": {},
     "output_type": "execute_result"
    }
   ],
   "source": [
    "df_projects = pd.DataFrame(bug_results)[['id', 'category', 'sub_category', 'project']]\n",
    "df_projects[df_projects['project']==\"Jsoup\"].groupby(['category', \"sub_category\"]).count()['id']"
   ]
  },
  {
   "cell_type": "code",
   "execution_count": 45,
   "id": "bd3ff8ee",
   "metadata": {},
   "outputs": [
    {
     "name": "stderr",
     "output_type": "stream",
     "text": [
      "/tmp/ipykernel_1712718/3306249005.py:1: UserWarning: Boolean Series key will be reindexed to match DataFrame index.\n",
      "  df[df['category']=='A regression is detected'][df['sub_category']=='Unique candidates']\n"
     ]
    },
    {
     "data": {
      "text/html": [
       "<div>\n",
       "<style scoped>\n",
       "    .dataframe tbody tr th:only-of-type {\n",
       "        vertical-align: middle;\n",
       "    }\n",
       "\n",
       "    .dataframe tbody tr th {\n",
       "        vertical-align: top;\n",
       "    }\n",
       "\n",
       "    .dataframe thead th {\n",
       "        text-align: right;\n",
       "    }\n",
       "</style>\n",
       "<table border=\"1\" class=\"dataframe\">\n",
       "  <thead>\n",
       "    <tr style=\"text-align: right;\">\n",
       "      <th></th>\n",
       "      <th>id</th>\n",
       "      <th>category</th>\n",
       "      <th>sub_category</th>\n",
       "    </tr>\n",
       "  </thead>\n",
       "  <tbody>\n",
       "    <tr>\n",
       "      <th>9</th>\n",
       "      <td>Time_Bug_1</td>\n",
       "      <td>A regression is detected</td>\n",
       "      <td>Unique candidates</td>\n",
       "    </tr>\n",
       "    <tr>\n",
       "      <th>37</th>\n",
       "      <td>Compress_Bug_28</td>\n",
       "      <td>A regression is detected</td>\n",
       "      <td>Unique candidates</td>\n",
       "    </tr>\n",
       "    <tr>\n",
       "      <th>72</th>\n",
       "      <td>Compress_Bug_45</td>\n",
       "      <td>A regression is detected</td>\n",
       "      <td>Unique candidates</td>\n",
       "    </tr>\n",
       "    <tr>\n",
       "      <th>106</th>\n",
       "      <td>JacksonCore_Bug_11</td>\n",
       "      <td>A regression is detected</td>\n",
       "      <td>Unique candidates</td>\n",
       "    </tr>\n",
       "    <tr>\n",
       "      <th>115</th>\n",
       "      <td>JacksonCore_Bug_10</td>\n",
       "      <td>A regression is detected</td>\n",
       "      <td>Unique candidates</td>\n",
       "    </tr>\n",
       "    <tr>\n",
       "      <th>118</th>\n",
       "      <td>JacksonCore_Bug_21</td>\n",
       "      <td>A regression is detected</td>\n",
       "      <td>Unique candidates</td>\n",
       "    </tr>\n",
       "    <tr>\n",
       "      <th>154</th>\n",
       "      <td>JacksonDatabind_Bug_24</td>\n",
       "      <td>A regression is detected</td>\n",
       "      <td>Unique candidates</td>\n",
       "    </tr>\n",
       "    <tr>\n",
       "      <th>172</th>\n",
       "      <td>JacksonDatabind_Bug_35</td>\n",
       "      <td>A regression is detected</td>\n",
       "      <td>Unique candidates</td>\n",
       "    </tr>\n",
       "    <tr>\n",
       "      <th>180</th>\n",
       "      <td>JacksonDatabind_Bug_41</td>\n",
       "      <td>A regression is detected</td>\n",
       "      <td>Unique candidates</td>\n",
       "    </tr>\n",
       "    <tr>\n",
       "      <th>201</th>\n",
       "      <td>JacksonDatabind_Bug_87</td>\n",
       "      <td>A regression is detected</td>\n",
       "      <td>Unique candidates</td>\n",
       "    </tr>\n",
       "    <tr>\n",
       "      <th>215</th>\n",
       "      <td>JacksonDatabind_Bug_59</td>\n",
       "      <td>A regression is detected</td>\n",
       "      <td>Unique candidates</td>\n",
       "    </tr>\n",
       "    <tr>\n",
       "      <th>224</th>\n",
       "      <td>JacksonDatabind_Bug_85</td>\n",
       "      <td>A regression is detected</td>\n",
       "      <td>Unique candidates</td>\n",
       "    </tr>\n",
       "    <tr>\n",
       "      <th>236</th>\n",
       "      <td>JacksonDatabind_Bug_72</td>\n",
       "      <td>A regression is detected</td>\n",
       "      <td>Unique candidates</td>\n",
       "    </tr>\n",
       "    <tr>\n",
       "      <th>254</th>\n",
       "      <td>Gson_Bug_12</td>\n",
       "      <td>A regression is detected</td>\n",
       "      <td>Unique candidates</td>\n",
       "    </tr>\n",
       "    <tr>\n",
       "      <th>263</th>\n",
       "      <td>Jsoup_Bug_68</td>\n",
       "      <td>A regression is detected</td>\n",
       "      <td>Unique candidates</td>\n",
       "    </tr>\n",
       "    <tr>\n",
       "      <th>264</th>\n",
       "      <td>Jsoup_Bug_57</td>\n",
       "      <td>A regression is detected</td>\n",
       "      <td>Unique candidates</td>\n",
       "    </tr>\n",
       "    <tr>\n",
       "      <th>269</th>\n",
       "      <td>Jsoup_Bug_43</td>\n",
       "      <td>A regression is detected</td>\n",
       "      <td>Unique candidates</td>\n",
       "    </tr>\n",
       "    <tr>\n",
       "      <th>271</th>\n",
       "      <td>Jsoup_Bug_23</td>\n",
       "      <td>A regression is detected</td>\n",
       "      <td>Unique candidates</td>\n",
       "    </tr>\n",
       "    <tr>\n",
       "      <th>279</th>\n",
       "      <td>Jsoup_Bug_88</td>\n",
       "      <td>A regression is detected</td>\n",
       "      <td>Unique candidates</td>\n",
       "    </tr>\n",
       "    <tr>\n",
       "      <th>300</th>\n",
       "      <td>Jsoup_Bug_15</td>\n",
       "      <td>A regression is detected</td>\n",
       "      <td>Unique candidates</td>\n",
       "    </tr>\n",
       "    <tr>\n",
       "      <th>314</th>\n",
       "      <td>Jsoup_Bug_40</td>\n",
       "      <td>A regression is detected</td>\n",
       "      <td>Unique candidates</td>\n",
       "    </tr>\n",
       "    <tr>\n",
       "      <th>347</th>\n",
       "      <td>Jsoup_Bug_72</td>\n",
       "      <td>A regression is detected</td>\n",
       "      <td>Unique candidates</td>\n",
       "    </tr>\n",
       "  </tbody>\n",
       "</table>\n",
       "</div>"
      ],
      "text/plain": [
       "                         id                  category       sub_category\n",
       "9                Time_Bug_1  A regression is detected  Unique candidates\n",
       "37          Compress_Bug_28  A regression is detected  Unique candidates\n",
       "72          Compress_Bug_45  A regression is detected  Unique candidates\n",
       "106      JacksonCore_Bug_11  A regression is detected  Unique candidates\n",
       "115      JacksonCore_Bug_10  A regression is detected  Unique candidates\n",
       "118      JacksonCore_Bug_21  A regression is detected  Unique candidates\n",
       "154  JacksonDatabind_Bug_24  A regression is detected  Unique candidates\n",
       "172  JacksonDatabind_Bug_35  A regression is detected  Unique candidates\n",
       "180  JacksonDatabind_Bug_41  A regression is detected  Unique candidates\n",
       "201  JacksonDatabind_Bug_87  A regression is detected  Unique candidates\n",
       "215  JacksonDatabind_Bug_59  A regression is detected  Unique candidates\n",
       "224  JacksonDatabind_Bug_85  A regression is detected  Unique candidates\n",
       "236  JacksonDatabind_Bug_72  A regression is detected  Unique candidates\n",
       "254             Gson_Bug_12  A regression is detected  Unique candidates\n",
       "263            Jsoup_Bug_68  A regression is detected  Unique candidates\n",
       "264            Jsoup_Bug_57  A regression is detected  Unique candidates\n",
       "269            Jsoup_Bug_43  A regression is detected  Unique candidates\n",
       "271            Jsoup_Bug_23  A regression is detected  Unique candidates\n",
       "279            Jsoup_Bug_88  A regression is detected  Unique candidates\n",
       "300            Jsoup_Bug_15  A regression is detected  Unique candidates\n",
       "314            Jsoup_Bug_40  A regression is detected  Unique candidates\n",
       "347            Jsoup_Bug_72  A regression is detected  Unique candidates"
      ]
     },
     "execution_count": 45,
     "metadata": {},
     "output_type": "execute_result"
    }
   ],
   "source": [
    "df[df['category']=='A regression is detected'][df['sub_category']=='Unique candidates']"
   ]
  }
 ],
 "metadata": {
  "interpreter": {
   "hash": "d4d1e4263499bec80672ea0156c357c1ee493ec2b1c70f0acce89fc37c4a6abe"
  },
  "kernelspec": {
   "display_name": "Python 3.9.5 64-bit ('base': conda)",
   "name": "python3"
  },
  "language_info": {
   "codemirror_mode": {
    "name": "ipython",
    "version": 3
   },
   "file_extension": ".py",
   "mimetype": "text/x-python",
   "name": "python",
   "nbconvert_exporter": "python",
   "pygments_lexer": "ipython3",
   "version": "3.9.5"
  }
 },
 "nbformat": 4,
 "nbformat_minor": 5
}
