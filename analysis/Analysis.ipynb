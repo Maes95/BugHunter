{
 "cells": [
  {
   "cell_type": "code",
   "execution_count": 1,
   "id": "0833f58d",
   "metadata": {},
   "outputs": [],
   "source": [
    "import pandas as pd \n",
    "import os\n",
    "import json\n",
    "import glob\n",
    "import re\n",
    "import sys\n",
    "import concurrent.futures\n",
    "from junitparser import JUnitXml, Failure, Error, Skipped\n",
    "sys.setrecursionlimit(20000) # Current limit = 999\n",
    "\n",
    "from CommitGraph import CommitGraph"
   ]
  },
  {
   "cell_type": "code",
   "execution_count": 2,
   "id": "bd7affea",
   "metadata": {},
   "outputs": [],
   "source": [
    "def createDirIfNotExists(folder_name):\n",
    "    if not os.path.isdir(folder_name): \n",
    "        os.makedirs(folder_name)"
   ]
  },
  {
   "cell_type": "code",
   "execution_count": 3,
   "id": "4fe87aef",
   "metadata": {},
   "outputs": [],
   "source": [
    "root=\"/home/jovyan/work\"\n",
    "analysis_results_path = root + \"/analysis/results/\"\n",
    "createDirIfNotExists(analysis_results_path)"
   ]
  },
  {
   "cell_type": "code",
   "execution_count": 4,
   "id": "fef2fd5a",
   "metadata": {},
   "outputs": [],
   "source": [
    "def searchRegression(graph, init_node):\n",
    "    paths = []\n",
    "    candidates = []\n",
    "    visited = []\n",
    "    queue = []   \n",
    "\n",
    "    visited.append(init_node)\n",
    "    queue.append(init_node)\n",
    "\n",
    "    while queue:\n",
    "        node = queue.pop()  \n",
    "\n",
    "        successParents = True\n",
    "        parents = graph[node['commit']]['parents']\n",
    "\n",
    "        if node['State'] == \"TestFail\":\n",
    "            candidates = []\n",
    "\n",
    "        for parent_hash in parents:\n",
    "            if parent_hash not in graph: # Reach first commit\n",
    "                successParents = False\n",
    "                if len(queue)==0:\n",
    "                    break\n",
    "                else: \n",
    "                    continue # Check other branches\n",
    "            parent = graph[parent_hash]\n",
    "            successParent = parent['State'] == \"TestSuccess\"\n",
    "            successParents = successParents and successParent\n",
    "            if not successParent:\n",
    "                if parent['State'] in [\"BuildError\", \"TestBuildError\"]:\n",
    "                    candidates.append(node)\n",
    "                if parent_hash not in visited:\n",
    "                    visited.append(parent_hash)\n",
    "                    queue.append(parent)\n",
    "    \n",
    "        if successParents and node['State'] != \"TestSuccess\":\n",
    "            \n",
    "            if node['State'] == 'TestFail': \n",
    "                return [node]\n",
    "            else:\n",
    "                candidates = candidates + [node]\n",
    "                if len(queue)==0:\n",
    "                    return candidates\n",
    "                else:\n",
    "                    paths.append(candidates)\n",
    "    \n",
    "    if len(paths) > 0: return paths[0]\n",
    "    return []"
   ]
  },
  {
   "cell_type": "code",
   "execution_count": 5,
   "id": "bb61ddbc",
   "metadata": {},
   "outputs": [],
   "source": [
    "def getExecutionsOnPastSequentially(graph, init_node):\n",
    "    executionsOnPastSequentially = 0\n",
    "    queue = [] \n",
    "    visited = []\n",
    "\n",
    "    queue.append(init_node)\n",
    "\n",
    "    while queue:\n",
    "        node = queue.pop()\n",
    "        parents = graph[node['commit']]['parents']\n",
    "        \n",
    "        for parent_hash in parents:\n",
    "            if parent_hash in graph:\n",
    "                parent = graph[parent_hash]\n",
    "                if parent['HasTestReport'] and parent not in visited:\n",
    "    #                 report_path = bug_path+\"commits/%d-%s/test-report.xml\"%(parent['id'], parent_hash)\n",
    "    #                 test_report = analyzeTestReport(test_method, report_path)\n",
    "                    executionsOnPastSequentially+=1\n",
    "                    queue.append(parent)\n",
    "                    visited.append(parent)\n",
    "    return executionsOnPastSequentially"
   ]
  },
  {
   "cell_type": "code",
   "execution_count": 6,
   "id": "5d53722c",
   "metadata": {},
   "outputs": [],
   "source": [
    "def analyzeTestReport(test_method, report_path):\n",
    "    # APPLY THIS TO EACH COMMIT WITH FAILED TEST\n",
    "    xml = JUnitXml.fromfile(report_path)\n",
    "    test_case = None\n",
    "    for tc in xml:\n",
    "        if test_method == tc.name:\n",
    "            test_case = tc\n",
    "            break\n",
    "    if test_case is None: raise Exception(\"Test case not found\")\n",
    "\n",
    "    result = {\n",
    "        'name': test_method,\n",
    "        'success': True,\n",
    "        'failure': False,\n",
    "        'failure_msg': None,\n",
    "        'error': False,\n",
    "        'error_msg': None,\n",
    "        'skipped': False\n",
    "    }\n",
    "    for elem in tc:\n",
    "        result['success'] = False\n",
    "        if elem.__class__ is Failure:\n",
    "            result['failure'] = True\n",
    "            result['failure_msg'] = elem.type\n",
    "        if elem.__class__ is Error:\n",
    "            result['error'] = True\n",
    "            result['error_msg'] = elem.message\n",
    "        if elem.__class__ is Skipped:\n",
    "            result['skipped'] = True\n",
    "\n",
    "    return result\n",
    "\n"
   ]
  },
  {
   "cell_type": "code",
   "execution_count": 7,
   "id": "3540252f",
   "metadata": {},
   "outputs": [],
   "source": [
    "def getTestName(cmd):\n",
    "    \n",
    "    if cmd.startswith(\"mvn\"):\n",
    "        return re.search(r\"-Dtest=(.*) test\",cmd).group(1)\n",
    "    if cmd.startswith(\"ant\"):\n",
    "        return re.search(r\"-Dtest.entry.method=(.*) run\",cmd).group(1)"
   ]
  },
  {
   "cell_type": "code",
   "execution_count": 8,
   "id": "e8b94534",
   "metadata": {},
   "outputs": [],
   "source": [
    "def analyzeBug(project, bug_id, force=False):\n",
    "    \n",
    "    bug_name = \"Bug_\"+str(bug_id)\n",
    "    bug_path = \"{root}/results/{project}/{bug_name}/\".format(root=root, project=project, bug_name=bug_name)\n",
    "    results_dir = analysis_results_path+\"{project}/{bug_name}/\".format(project=project, bug_name=bug_name)\n",
    "    result_file = results_dir+\"bug_result.json\"\n",
    "    \n",
    "    \n",
    "    if not force and os.path.isfile(result_file):  \n",
    "        with open(result_file) as json_file:\n",
    "            bug_result = json.load(json_file)  \n",
    "            return bug_result\n",
    "    \n",
    "#     print(\"INIT \"+project+\" \"+bug_name)\n",
    "    \n",
    "    with open(\"{root}/configFiles/{project}/bugs/{bug_name}.json\".format(root=root,project=project, bug_name=bug_name)) as f:\n",
    "        bug_info = json.load(f)\n",
    "        \n",
    "    test_name = getTestName(bug_info['test_command'])\n",
    "    #test_method = test_name.split(\"#\")[1]\n",
    "\n",
    "    bug_result = {\n",
    "        'id': project + \"_\" + bug_name,\n",
    "        'bug': bug_name,\n",
    "        'project': project,\n",
    "        \"fix_pass\": True,\n",
    "        \"prev_fails\": True,\n",
    "        \"category\": None,\n",
    "        \"sub_category\": \"-\",\n",
    "        \"test_name\": test_name,\n",
    "        \"bug_report\": bug_info['bug_report'],\n",
    "        \"fix_commit\": bug_info['fix_commit'],\n",
    "        \"BIC_candidates\": []\n",
    "    }\n",
    "    \n",
    "    if not os.path.isfile(bug_path+'commit_history.csv'):\n",
    "        bug_result['category'] = \"Other error\"\n",
    "        return bug_result\n",
    "    \n",
    "    createDirIfNotExists(results_dir)\n",
    "    \n",
    "    try:\n",
    "        commit_graph = CommitGraph(project, bug_id, bug_path, results_dir, restore=True)\n",
    "    except IndexError as e:\n",
    "        bug_result['category'] = \"No results - Error at performing experiment\"\n",
    "        return bug_result\n",
    "        \n",
    "    fix_commit = commit_graph.graph[bug_info['fix_commit']]\n",
    "    \n",
    "    if not fix_commit['ExecuteTest']: # FIX COMMIT - SHOULD PASS\n",
    "        \n",
    "        bug_result['category'] = \"Test fails in the fix commit\"\n",
    "        bug_result['fix_pass'] = False\n",
    "        bug_result['prev_fails'] = None\n",
    "        \n",
    "        if fix_commit['Build']:\n",
    "            if fix_commit['BuildTest']:\n",
    "                if not fix_commit['HasTestReport']:\n",
    "                    bug_result['sub_category'] = \"The test was not executed\"\n",
    "                else:\n",
    "                    bug_result['sub_category'] = \"Test execution fails\"\n",
    "#                     analyzeTestReport(test_method, bug_path+\"commits/0-\"+fix_commit['commit']+\"/test-report.xml\")\n",
    "                     \n",
    "            else:\n",
    "                bug_result['sub_category'] = \"Failure in test build\"\n",
    "        else:\n",
    "            bug_result['sub_category'] = \"Failure in source build\"\n",
    "        \n",
    "        bug_result['executionsOnPastSequentially'] = 0\n",
    "    \n",
    "    else: \n",
    "\n",
    "        # SEARCH REGRESSION\n",
    "        candidates = searchRegression(commit_graph.graph, fix_commit)\n",
    "        if len(candidates) > 0:\n",
    "\n",
    "            bug_result['BIC_candidates'] = list(map(lambda c: (c['id'],c['commit'] ),candidates))\n",
    "            bug_result['category'] = \"A regression is detected\"\n",
    "\n",
    "            if len(candidates) == 1:\n",
    "                bug_result['sub_category'] = \"Unique candidates\" \n",
    "            else:\n",
    "                bug_result['sub_category'] = \"Multiple candidates\" \n",
    "\n",
    "        # SEARCH OTHER BIC\n",
    "        else:\n",
    "            bug_result['category'] = \"No regression is detected\"\n",
    "            bug_result['sub_category'] = \"-\"\n",
    "            \n",
    "\n",
    "        bug_result['executionsOnPastSequentially'] = getExecutionsOnPastSequentially(commit_graph.graph, fix_commit)\n",
    "    \n",
    "    executionsOnPast = 0\n",
    "    \n",
    "    for node in commit_graph.graph.values():\n",
    "        if node['HasTestReport']:\n",
    "            executionsOnPast+=1\n",
    "            \n",
    "    bug_result['executionsOnPast'] = executionsOnPast\n",
    "    bug_result['numCommits'] = len(commit_graph.graph.values())\n",
    "    \n",
    "    # Save bug result\n",
    "    with open(results_dir+\"bug_result.json\",'w+') as json_file:\n",
    "        json.dump(bug_result, json_file, indent=4)\n",
    "        \n",
    "#     print(\"FINISH \"+project+\" \"+bug_name)\n",
    "\n",
    "    return bug_result"
   ]
  },
  {
   "cell_type": "code",
   "execution_count": 9,
   "id": "79bec9ce",
   "metadata": {},
   "outputs": [],
   "source": [
    "# CASE 1: Regression\n",
    "candidates = analyzeBug(\"JacksonCore\", 11)['BIC_candidates']\n",
    "assert candidates[0][0] == 162"
   ]
  },
  {
   "cell_type": "code",
   "execution_count": 10,
   "id": "ea405988",
   "metadata": {},
   "outputs": [],
   "source": [
    "# CASE 1.1: Regression - Case when algorithm reach first commit and need to check remaining in queue\n",
    "candidates = analyzeBug(\"JacksonCore\", 10)['BIC_candidates']\n",
    "assert candidates[0][0] == 99"
   ]
  },
  {
   "cell_type": "code",
   "execution_count": 11,
   "id": "02ff0346",
   "metadata": {},
   "outputs": [],
   "source": [
    "# CASE 1.2: Regression - Could be more candidates\n",
    "candidates = analyzeBug(\"JacksonDatabind\", 59)['BIC_candidates']\n",
    "assert set([146]) <= set(map(lambda c: c[0],candidates))"
   ]
  },
  {
   "cell_type": "code",
   "execution_count": 12,
   "id": "9049cdfd",
   "metadata": {},
   "outputs": [],
   "source": [
    "# CASE 2: No Regression - No candidate commit\n",
    "candidates = analyzeBug(\"JacksonDatabind\", 86, True)['BIC_candidates']\n",
    "assert len(candidates) == 0"
   ]
  },
  {
   "cell_type": "code",
   "execution_count": 13,
   "id": "b76aac75",
   "metadata": {},
   "outputs": [],
   "source": [
    "# CASE 2.1: No Regression - No candidate commit\n",
    "candidates = analyzeBug(\"Collections\", 28)['BIC_candidates']\n",
    "assert len(candidates) == 0"
   ]
  },
  {
   "cell_type": "code",
   "execution_count": 14,
   "id": "22900cd8",
   "metadata": {},
   "outputs": [],
   "source": [
    "# CASE 3: Regresion but with buildability limitations\n",
    "candidates = analyzeBug(\"JacksonDatabind\", 52)['BIC_candidates']\n",
    "assert set([905, 906, 907, 908, 909, 910, 911, 912, 915, 919, 920, 921, 922, 923, 924, 925, 926, 927]) <= set(map(lambda c: c[0],candidates))"
   ]
  },
  {
   "cell_type": "code",
   "execution_count": 15,
   "id": "d28a3b2f",
   "metadata": {},
   "outputs": [],
   "source": [
    "# CASE 3.1: Regresion but with buildability limitations\n",
    "candidates = analyzeBug(\"JacksonDatabind\", 38)['BIC_candidates']\n",
    "assert set([70]) <= set(map(lambda c: c[0],candidates))"
   ]
  },
  {
   "cell_type": "code",
   "execution_count": 16,
   "id": "7c41230f",
   "metadata": {},
   "outputs": [],
   "source": [
    "# CASE 4: Use Ant\n",
    "candidates = analyzeBug(\"Lang\", 1)['BIC_candidates']\n",
    "assert set() <= set(map(lambda c: c[0],candidates))"
   ]
  },
  {
   "cell_type": "code",
   "execution_count": 17,
   "id": "b8eb0993",
   "metadata": {},
   "outputs": [],
   "source": [
    "# CASE 4.1: Use Ant\n",
    "candidates = analyzeBug(\"Mockito\", 1)['BIC_candidates']\n",
    "assert set([1]) <= set(map(lambda c: c[0],candidates))"
   ]
  },
  {
   "cell_type": "code",
   "execution_count": 18,
   "id": "851b4eee",
   "metadata": {
    "scrolled": false
   },
   "outputs": [],
   "source": [
    "projects = [\n",
    "    \"JacksonXml\", \"Time\", \"Collections\", \"Compress\", \"Csv\", \"JacksonCore\", \"JacksonDatabind\", \"Gson\", \"Jsoup\",\n",
    "    \"Lang\", \"Math\", \"Closure\", \"Mockito\"\n",
    "]\n",
    "future_results = []\n",
    "with concurrent.futures.ThreadPoolExecutor() as executor:\n",
    "    for project in projects:\n",
    "        # FOR EACH BUG\n",
    "        for bug_path in glob.glob(\"{root}/results/{project}/Bug_*/\".format(root=root, project=project)):\n",
    "            bug = re.search(r\"Bug_(\\d+)\", bug_path).group(1)\n",
    "            try:\n",
    "                future = executor.submit(analyzeBug, project, bug, False)\n",
    "                future_results.append(future)\n",
    "            except Exception as e:\n",
    "                print(bug_path)\n",
    "                print(e)\n",
    "bug_results = [future.result() for future in future_results]"
   ]
  },
  {
   "cell_type": "code",
   "execution_count": 19,
   "id": "dfe5a7fd",
   "metadata": {},
   "outputs": [
    {
     "name": "stdout",
     "output_type": "stream",
     "text": [
      "730\n"
     ]
    },
    {
     "data": {
      "text/plain": [
       "No regression is detected       570\n",
       "Test fails in the fix commit     85\n",
       "A regression is detected         75\n",
       "Name: category, dtype: int64"
      ]
     },
     "execution_count": 19,
     "metadata": {},
     "output_type": "execute_result"
    }
   ],
   "source": [
    "df = pd.DataFrame(bug_results)[['id', 'category', 'sub_category']]\n",
    "df[df['category'] != None].set_index('id').sort_index()\n",
    "print(len(df))\n",
    "df['category'].value_counts()"
   ]
  },
  {
   "cell_type": "code",
   "execution_count": 20,
   "id": "e3db8885",
   "metadata": {
    "scrolled": true
   },
   "outputs": [
    {
     "data": {
      "text/plain": [
       "category                      sub_category             \n",
       "A regression is detected      Multiple candidates           26\n",
       "                              Unique candidates             49\n",
       "No regression is detected     -                            570\n",
       "Test fails in the fix commit  Failure in source build       60\n",
       "                              Failure in test build          3\n",
       "                              Test execution fails           6\n",
       "                              The test was not executed     16\n",
       "Name: id, dtype: int64"
      ]
     },
     "execution_count": 20,
     "metadata": {},
     "output_type": "execute_result"
    }
   ],
   "source": [
    "#df[df['category']=='Test failed at fix commit']\n",
    "df.groupby(['category', \"sub_category\"]).count()['id']"
   ]
  },
  {
   "cell_type": "code",
   "execution_count": 21,
   "id": "bd3ff8ee",
   "metadata": {
    "scrolled": false
   },
   "outputs": [
    {
     "data": {
      "text/html": [
       "<div>\n",
       "<style scoped>\n",
       "    .dataframe tbody tr th:only-of-type {\n",
       "        vertical-align: middle;\n",
       "    }\n",
       "\n",
       "    .dataframe tbody tr th {\n",
       "        vertical-align: top;\n",
       "    }\n",
       "\n",
       "    .dataframe thead th {\n",
       "        text-align: right;\n",
       "    }\n",
       "</style>\n",
       "<table border=\"1\" class=\"dataframe\">\n",
       "  <thead>\n",
       "    <tr style=\"text-align: right;\">\n",
       "      <th></th>\n",
       "      <th>id</th>\n",
       "      <th>category</th>\n",
       "      <th>sub_category</th>\n",
       "    </tr>\n",
       "  </thead>\n",
       "  <tbody>\n",
       "    <tr>\n",
       "      <th>12</th>\n",
       "      <td>Time_Bug_9</td>\n",
       "      <td>Test fails in the fix commit</td>\n",
       "      <td>Test execution fails</td>\n",
       "    </tr>\n",
       "    <tr>\n",
       "      <th>16</th>\n",
       "      <td>Time_Bug_8</td>\n",
       "      <td>Test fails in the fix commit</td>\n",
       "      <td>Test execution fails</td>\n",
       "    </tr>\n",
       "    <tr>\n",
       "      <th>23</th>\n",
       "      <td>Time_Bug_7</td>\n",
       "      <td>Test fails in the fix commit</td>\n",
       "      <td>Test execution fails</td>\n",
       "    </tr>\n",
       "    <tr>\n",
       "      <th>26</th>\n",
       "      <td>Time_Bug_16</td>\n",
       "      <td>Test fails in the fix commit</td>\n",
       "      <td>Test execution fails</td>\n",
       "    </tr>\n",
       "    <tr>\n",
       "      <th>257</th>\n",
       "      <td>Jsoup_Bug_67</td>\n",
       "      <td>Test fails in the fix commit</td>\n",
       "      <td>Test execution fails</td>\n",
       "    </tr>\n",
       "    <tr>\n",
       "      <th>334</th>\n",
       "      <td>Jsoup_Bug_78</td>\n",
       "      <td>Test fails in the fix commit</td>\n",
       "      <td>Test execution fails</td>\n",
       "    </tr>\n",
       "  </tbody>\n",
       "</table>\n",
       "</div>"
      ],
      "text/plain": [
       "               id                      category          sub_category\n",
       "12     Time_Bug_9  Test fails in the fix commit  Test execution fails\n",
       "16     Time_Bug_8  Test fails in the fix commit  Test execution fails\n",
       "23     Time_Bug_7  Test fails in the fix commit  Test execution fails\n",
       "26    Time_Bug_16  Test fails in the fix commit  Test execution fails\n",
       "257  Jsoup_Bug_67  Test fails in the fix commit  Test execution fails\n",
       "334  Jsoup_Bug_78  Test fails in the fix commit  Test execution fails"
      ]
     },
     "execution_count": 21,
     "metadata": {},
     "output_type": "execute_result"
    }
   ],
   "source": [
    "#df[df['category']=='Test fails in the fix commit'][df['sub_category']=='Test execution fails']\n",
    "pd.set_option('display.max_rows', 100)\n",
    "#df[df['category']=='A regression is detected']#[df['sub_category']=='Unique candidates']\n",
    "df[df['sub_category']=='Test execution fails']"
   ]
  },
  {
   "cell_type": "code",
   "execution_count": 33,
   "id": "491dc30b",
   "metadata": {
    "scrolled": false
   },
   "outputs": [
    {
     "data": {
      "text/html": [
       "<div>\n",
       "<style scoped>\n",
       "    .dataframe tbody tr th:only-of-type {\n",
       "        vertical-align: middle;\n",
       "    }\n",
       "\n",
       "    .dataframe tbody tr th {\n",
       "        vertical-align: top;\n",
       "    }\n",
       "\n",
       "    .dataframe thead th {\n",
       "        text-align: right;\n",
       "    }\n",
       "</style>\n",
       "<table border=\"1\" class=\"dataframe\">\n",
       "  <thead>\n",
       "    <tr style=\"text-align: right;\">\n",
       "      <th></th>\n",
       "      <th>id</th>\n",
       "      <th>executionsOnPastSequentially</th>\n",
       "      <th>executionsOnPast</th>\n",
       "      <th>numCommits</th>\n",
       "      <th>executionsOnPastSequentially_rate</th>\n",
       "      <th>executionsOnPast_rate</th>\n",
       "    </tr>\n",
       "  </thead>\n",
       "  <tbody>\n",
       "    <tr>\n",
       "      <th>2</th>\n",
       "      <td>JacksonXml_Bug_4</td>\n",
       "      <td>88</td>\n",
       "      <td>313</td>\n",
       "      <td>651</td>\n",
       "      <td>13.52</td>\n",
       "      <td>48.08</td>\n",
       "    </tr>\n",
       "    <tr>\n",
       "      <th>3</th>\n",
       "      <td>JacksonXml_Bug_2</td>\n",
       "      <td>5</td>\n",
       "      <td>173</td>\n",
       "      <td>603</td>\n",
       "      <td>0.83</td>\n",
       "      <td>28.69</td>\n",
       "    </tr>\n",
       "    <tr>\n",
       "      <th>4</th>\n",
       "      <td>JacksonXml_Bug_3</td>\n",
       "      <td>43</td>\n",
       "      <td>218</td>\n",
       "      <td>602</td>\n",
       "      <td>7.14</td>\n",
       "      <td>36.21</td>\n",
       "    </tr>\n",
       "    <tr>\n",
       "      <th>7</th>\n",
       "      <td>Time_Bug_14</td>\n",
       "      <td>6</td>\n",
       "      <td>7</td>\n",
       "      <td>1573</td>\n",
       "      <td>0.38</td>\n",
       "      <td>0.45</td>\n",
       "    </tr>\n",
       "    <tr>\n",
       "      <th>9</th>\n",
       "      <td>Time_Bug_1</td>\n",
       "      <td>150</td>\n",
       "      <td>151</td>\n",
       "      <td>1717</td>\n",
       "      <td>8.74</td>\n",
       "      <td>8.79</td>\n",
       "    </tr>\n",
       "    <tr>\n",
       "      <th>...</th>\n",
       "      <td>...</td>\n",
       "      <td>...</td>\n",
       "      <td>...</td>\n",
       "      <td>...</td>\n",
       "      <td>...</td>\n",
       "      <td>...</td>\n",
       "    </tr>\n",
       "    <tr>\n",
       "      <th>725</th>\n",
       "      <td>Mockito_Bug_36</td>\n",
       "      <td>35</td>\n",
       "      <td>175</td>\n",
       "      <td>1190</td>\n",
       "      <td>2.94</td>\n",
       "      <td>14.71</td>\n",
       "    </tr>\n",
       "    <tr>\n",
       "      <th>726</th>\n",
       "      <td>Mockito_Bug_25</td>\n",
       "      <td>243</td>\n",
       "      <td>509</td>\n",
       "      <td>1833</td>\n",
       "      <td>13.26</td>\n",
       "      <td>27.77</td>\n",
       "    </tr>\n",
       "    <tr>\n",
       "      <th>727</th>\n",
       "      <td>Mockito_Bug_12</td>\n",
       "      <td>3</td>\n",
       "      <td>15</td>\n",
       "      <td>1386</td>\n",
       "      <td>0.22</td>\n",
       "      <td>1.08</td>\n",
       "    </tr>\n",
       "    <tr>\n",
       "      <th>728</th>\n",
       "      <td>Mockito_Bug_27</td>\n",
       "      <td>21</td>\n",
       "      <td>33</td>\n",
       "      <td>1581</td>\n",
       "      <td>1.33</td>\n",
       "      <td>2.09</td>\n",
       "    </tr>\n",
       "    <tr>\n",
       "      <th>729</th>\n",
       "      <td>Mockito_Bug_20</td>\n",
       "      <td>2</td>\n",
       "      <td>1170</td>\n",
       "      <td>2569</td>\n",
       "      <td>0.08</td>\n",
       "      <td>45.54</td>\n",
       "    </tr>\n",
       "  </tbody>\n",
       "</table>\n",
       "<p>645 rows × 6 columns</p>\n",
       "</div>"
      ],
      "text/plain": [
       "                   id  executionsOnPastSequentially  executionsOnPast  \\\n",
       "2    JacksonXml_Bug_4                            88               313   \n",
       "3    JacksonXml_Bug_2                             5               173   \n",
       "4    JacksonXml_Bug_3                            43               218   \n",
       "7         Time_Bug_14                             6                 7   \n",
       "9          Time_Bug_1                           150               151   \n",
       "..                ...                           ...               ...   \n",
       "725    Mockito_Bug_36                            35               175   \n",
       "726    Mockito_Bug_25                           243               509   \n",
       "727    Mockito_Bug_12                             3                15   \n",
       "728    Mockito_Bug_27                            21                33   \n",
       "729    Mockito_Bug_20                             2              1170   \n",
       "\n",
       "     numCommits  executionsOnPastSequentially_rate  executionsOnPast_rate  \n",
       "2           651                              13.52                  48.08  \n",
       "3           603                               0.83                  28.69  \n",
       "4           602                               7.14                  36.21  \n",
       "7          1573                               0.38                   0.45  \n",
       "9          1717                               8.74                   8.79  \n",
       "..          ...                                ...                    ...  \n",
       "725        1190                               2.94                  14.71  \n",
       "726        1833                              13.26                  27.77  \n",
       "727        1386                               0.22                   1.08  \n",
       "728        1581                               1.33                   2.09  \n",
       "729        2569                               0.08                  45.54  \n",
       "\n",
       "[645 rows x 6 columns]"
      ]
     },
     "execution_count": 33,
     "metadata": {},
     "output_type": "execute_result"
    }
   ],
   "source": [
    "df = pd.DataFrame(bug_results)[['id', 'executionsOnPastSequentially', 'executionsOnPast', 'numCommits']]\n",
    "df = df[df['numCommits'] > 1]\n",
    "df['executionsOnPastSequentially_rate'] = df.apply (lambda row: row['executionsOnPastSequentially'] * 100 / row['numCommits'], axis=1)\n",
    "df['executionsOnPast_rate'] = df.apply (lambda row: row['executionsOnPast'] * 100 / row['numCommits'], axis=1)\n",
    "df.round(decimals=2)"
   ]
  },
  {
   "cell_type": "code",
   "execution_count": 35,
   "id": "46cccdac",
   "metadata": {},
   "outputs": [
    {
     "data": {
      "text/plain": [
       "10.202383375125324"
      ]
     },
     "execution_count": 35,
     "metadata": {},
     "output_type": "execute_result"
    }
   ],
   "source": [
    "df['executionsOnPastSequentially_rate'].mean()"
   ]
  },
  {
   "cell_type": "code",
   "execution_count": 34,
   "id": "e7d3f649",
   "metadata": {},
   "outputs": [
    {
     "data": {
      "text/plain": [
       "21.075428838804818"
      ]
     },
     "execution_count": 34,
     "metadata": {},
     "output_type": "execute_result"
    }
   ],
   "source": [
    "df['executionsOnPast_rate'].mean()"
   ]
  },
  {
   "cell_type": "code",
   "execution_count": 25,
   "id": "98b3a2ef",
   "metadata": {},
   "outputs": [
    {
     "data": {
      "text/plain": [
       "1588.4068493150685"
      ]
     },
     "execution_count": 25,
     "metadata": {},
     "output_type": "execute_result"
    }
   ],
   "source": [
    "df['numCommits'].mean()"
   ]
  }
 ],
 "metadata": {
  "interpreter": {
   "hash": "d4d1e4263499bec80672ea0156c357c1ee493ec2b1c70f0acce89fc37c4a6abe"
  },
  "kernelspec": {
   "display_name": "Python 3 (ipykernel)",
   "language": "python",
   "name": "python3"
  },
  "language_info": {
   "codemirror_mode": {
    "name": "ipython",
    "version": 3
   },
   "file_extension": ".py",
   "mimetype": "text/x-python",
   "name": "python",
   "nbconvert_exporter": "python",
   "pygments_lexer": "ipython3",
   "version": "3.9.5"
  }
 },
 "nbformat": 4,
 "nbformat_minor": 5
}
