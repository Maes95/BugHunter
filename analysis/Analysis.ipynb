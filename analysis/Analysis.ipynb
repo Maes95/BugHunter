{
 "cells": [
  {
   "cell_type": "markdown",
   "id": "4cab4e82",
   "metadata": {},
   "source": [
    "# Data Analysis"
   ]
  },
  {
   "cell_type": "code",
   "execution_count": 1,
   "id": "e36ee718",
   "metadata": {},
   "outputs": [],
   "source": [
    "import pandas as pd \n",
    "import glob\n",
    "import re\n",
    "import sys\n",
    "import concurrent.futures\n",
    "from Analysis import Analysis\n",
    "import matplotlib.pyplot as plt\n",
    "\n",
    "pd.set_option('display.max_rows', 100)"
   ]
  },
  {
   "cell_type": "markdown",
   "id": "f4109fed",
   "metadata": {},
   "source": [
    "### Calculate the result for each bug"
   ]
  },
  {
   "cell_type": "code",
   "execution_count": null,
   "id": "851b4eee",
   "metadata": {
    "scrolled": false
   },
   "outputs": [],
   "source": [
    "root = \"/home/jovyan/work\"\n",
    "analyzer = Analysis(root)\n",
    "\n",
    "projects = [\n",
    "    \"Time\", \"JacksonXml\", \"Collections\", \"Compress\", \"Csv\", \"JacksonCore\", #\"JacksonDatabind\", \n",
    "    \"Jsoup\", \"Lang\", \"Math\", \"Gson\", \"Closure\", \"Mockito\"\n",
    "]\n",
    "future_results = []\n",
    "with concurrent.futures.ThreadPoolExecutor() as executor:\n",
    "    for project in projects:\n",
    "        # FOR EACH BUG\n",
    "        for bug_path in glob.glob(\"{root}/results/{project}/Bug_*/\".format(root=root, project=project)):\n",
    "            bug = re.search(r\"Bug_(\\d+)\", bug_path).group(1)\n",
    "            try:\n",
    "                future = executor.submit(analyzer.analyzeBug, project, bug, True)\n",
    "                future_results.append(future)\n",
    "            except Exception as e:\n",
    "                print(bug_path)\n",
    "                print(e)"
   ]
  },
  {
   "cell_type": "code",
   "execution_count": null,
   "id": "06077ce4",
   "metadata": {},
   "outputs": [],
   "source": [
    "bug_results = []\n",
    "for future in future_results:\n",
    "    r = future.result() \n",
    "    bug_results.append(r)"
   ]
  },
  {
   "cell_type": "markdown",
   "id": "74a66ec7",
   "metadata": {},
   "source": [
    "### Example of bug result when a BIC detected"
   ]
  },
  {
   "cell_type": "code",
   "execution_count": null,
   "id": "be749f4d",
   "metadata": {},
   "outputs": [],
   "source": [
    "bug_results[3]"
   ]
  },
  {
   "cell_type": "code",
   "execution_count": null,
   "id": "81b1da23",
   "metadata": {},
   "outputs": [],
   "source": [
    "resume_df= pd.DataFrame(bug_results)[\n",
    "    ['id', 'project','executionsOnPast', 'numCommits',\n",
    "     'buildFail', 'buildTestFail', 'BIC_candidates', 'transplantability_days', 'transplantability_position']\n",
    "]\n",
    "\n",
    "# Remove bugs with non-succeed BFC\n",
    "resume_df = resume_df[resume_df['numCommits'] > 1]\n",
    "\n",
    "resume_df['one_bic_found'] = resume_df.apply (\n",
    "    lambda row: 1 if len(row['BIC_candidates']) == 1 else 0, axis=1\n",
    ")\n",
    "resume_df['n_bic_found'] = resume_df.apply (\n",
    "    lambda row: 1 if len(row['BIC_candidates']) > 1 else 0, axis=1\n",
    ")\n",
    "resume_df['executionsOnPast_rate'] = resume_df.apply (\n",
    "    lambda row: row['executionsOnPast'] * 100 / row['numCommits'], axis=1\n",
    ")\n",
    "resume_df['compilability'] = resume_df.apply (\n",
    "    lambda row: (row['numCommits']-row['buildFail']) * 100 / row['numCommits'], axis=1\n",
    ")\n",
    "resume_df['testCompilability'] = resume_df.apply (\n",
    "    lambda row: (row['numCommits']-row['buildTestFail']-row['buildFail']) * 100 / row['numCommits'], axis=1\n",
    ")"
   ]
  },
  {
   "cell_type": "markdown",
   "id": "a935a0c2",
   "metadata": {},
   "source": [
    "## RQ1A: “How far can a test be transplanted into the past”"
   ]
  },
  {
   "cell_type": "code",
   "execution_count": null,
   "id": "32366748",
   "metadata": {},
   "outputs": [],
   "source": [
    "resume_df.groupby('project').agg(\n",
    "    bugs=('project','size'), \n",
    "    transplantability_days_mean=('transplantability_days','mean'),\n",
    "    transplantability_days_median=('transplantability_days','median'),\n",
    "    transplantability_position_mean=('transplantability_position','mean'),\n",
    "    transplantability_position_median=('transplantability_position','median')\n",
    ").round(0).astype(int)"
   ]
  },
  {
   "cell_type": "code",
   "execution_count": null,
   "id": "b75179dd",
   "metadata": {},
   "outputs": [],
   "source": [
    "t_days = resume_df['transplantability_days']\n",
    "t_position = resume_df['transplantability_position']\n",
    "print(\"Transplantability in days (Mean/Median): %d %d\"%(t_days.mean(), t_days.median()))\n",
    "print(\"Transplantability in # commits (Mean/Median): %d %d\"%(t_position.mean(), t_position.median()))"
   ]
  },
  {
   "cell_type": "code",
   "execution_count": null,
   "id": "cff58860",
   "metadata": {},
   "outputs": [],
   "source": [
    "fig, axs = plt.subplots(ncols=2, nrows=1, figsize=(10, 3.5), layout=\"constrained\")\n",
    "\n",
    "resume_df.boxplot(column='transplantability_days', ax=axs[0])\n",
    "axs[0].set_ylabel(\"days\")\n",
    "\n",
    "resume_df.boxplot(column='transplantability_position', ax=axs[1])\n",
    "axs[1].set_ylabel(\"# commits\")\n",
    "\n",
    "resume_df[['transplantability_days', 'transplantability_position']].describe().astype(int).T"
   ]
  },
  {
   "cell_type": "code",
   "execution_count": null,
   "id": "043c5fe5",
   "metadata": {},
   "outputs": [],
   "source": [
    "regressions_df = pd.DataFrame(bug_results)[\n",
    "    ['id', 'project','category', 'sub_category', 'bic_position', 'bic_age']\n",
    "]\n",
    "regressions_df = regressions_df[regressions_df['sub_category']=='Unique candidates']\n",
    "bic_position = regressions_df['bic_position']\n",
    "bic_age = regressions_df['bic_age']\n",
    "print(\"BIC position (Mean/Median): %d %d\"%(bic_position.mean(), bic_position.median()))\n",
    "print(\"BIC age (Mean/Median): %d %d\"%(bic_age.mean(), bic_age.median()))\n",
    "regressions_df"
   ]
  },
  {
   "cell_type": "markdown",
   "id": "c8723ec7",
   "metadata": {},
   "source": [
    "## RQ1B: “What aspects prevent us from transplanting the test to the past?”"
   ]
  },
  {
   "cell_type": "code",
   "execution_count": null,
   "id": "0d508613",
   "metadata": {},
   "outputs": [],
   "source": [
    "resume_df.groupby('project').agg(\n",
    "    bugs=('project','size'), \n",
    "    #s_bics=('one_bic_found','sum'),\n",
    "    #m_bics=('n_bic_found','sum'),\n",
    "    compilability_mean=('compilability','mean'), \n",
    "    compilability_median=('compilability','median'),\n",
    "    test_compilability_mean=('testCompilability','mean'), \n",
    "    test_compilability_median=('testCompilability','median'),\n",
    "    ratio_mean=('executionsOnPast_rate','mean'), \n",
    "    ratio_median=('executionsOnPast_rate','median'),\n",
    ").round(0)\n",
    "compilability = resume_df['compilability']\n",
    "t_compilability = resume_df['testCompilability']\n",
    "t_runnability = resume_df['executionsOnPast_rate']\n",
    "print(\"Src Compilability (Mean/Median): %.2f %.2f\"%(compilability.mean(), compilability.median()))\n",
    "print(\"Test Compilability (Mean/Median): %.2f %.2f\"%(t_compilability.mean(), t_compilability.median()))\n",
    "print(\"Test runability (Mean/Median): %.2f %.2f\"%(t_runnability.mean(), t_runnability.median()))"
   ]
  },
  {
   "cell_type": "markdown",
   "id": "d2fd5e3d",
   "metadata": {},
   "source": [
    "## RQ2: “Can the BIC for a given bug be found using its regression test?”"
   ]
  },
  {
   "cell_type": "markdown",
   "id": "924ac5a9",
   "metadata": {},
   "source": [
    "### Summary of results"
   ]
  },
  {
   "cell_type": "code",
   "execution_count": null,
   "id": "dfe5a7fd",
   "metadata": {},
   "outputs": [],
   "source": [
    "df = pd.DataFrame(bug_results)[['id', 'project','category', 'sub_category']]\n",
    "df[df['category'] != None].set_index('id').sort_index()\n",
    "print(len(df))\n",
    "df['category'].value_counts()"
   ]
  },
  {
   "cell_type": "markdown",
   "id": "4e04dc1e",
   "metadata": {},
   "source": [
    "### Results per sub-catergory"
   ]
  },
  {
   "cell_type": "code",
   "execution_count": null,
   "id": "e3db8885",
   "metadata": {
    "scrolled": true
   },
   "outputs": [],
   "source": [
    "df.groupby(['category', \"sub_category\"]).count()['id']"
   ]
  },
  {
   "cell_type": "markdown",
   "id": "cda3dd5a",
   "metadata": {},
   "source": [
    "#### Failure in source build (FIX COMMIT)"
   ]
  },
  {
   "cell_type": "code",
   "execution_count": null,
   "id": "f6bcc513",
   "metadata": {
    "scrolled": false
   },
   "outputs": [],
   "source": [
    "df[df['sub_category']=='Failure in source build'].sort_values(by=['id'], ascending=False)"
   ]
  }
 ],
 "metadata": {
  "interpreter": {
   "hash": "d4d1e4263499bec80672ea0156c357c1ee493ec2b1c70f0acce89fc37c4a6abe"
  },
  "kernelspec": {
   "display_name": "Python 3 (ipykernel)",
   "language": "python",
   "name": "python3"
  },
  "language_info": {
   "codemirror_mode": {
    "name": "ipython",
    "version": 3
   },
   "file_extension": ".py",
   "mimetype": "text/x-python",
   "name": "python",
   "nbconvert_exporter": "python",
   "pygments_lexer": "ipython3",
   "version": "3.9.5"
  }
 },
 "nbformat": 4,
 "nbformat_minor": 5
}
