{
 "cells": [
  {
   "cell_type": "code",
   "execution_count": 1,
   "id": "0833f58d",
   "metadata": {},
   "outputs": [],
   "source": [
    "import pandas as pd \n",
    "import os\n",
    "import csv\n",
    "import json\n",
    "import glob\n",
    "import re\n",
    "import sys\n",
    "import graphviz\n",
    "from CommitGraph import CommitGraph"
   ]
  },
  {
   "cell_type": "code",
   "execution_count": 2,
   "id": "bd7affea",
   "metadata": {},
   "outputs": [],
   "source": [
    "def createDirIfNotExists(folder_name):\n",
    "    if not os.path.isdir(folder_name): \n",
    "        os.makedirs(folder_name)"
   ]
  },
  {
   "cell_type": "code",
   "execution_count": 3,
   "id": "4fe87aef",
   "metadata": {},
   "outputs": [],
   "source": [
    "root=\"/home/jovyan/work\"\n",
    "analysis_results_path = root + \"/analysis/results/\"\n",
    "createDirIfNotExists(analysis_results_path)"
   ]
  },
  {
   "cell_type": "code",
   "execution_count": 4,
   "id": "fef2fd5a",
   "metadata": {},
   "outputs": [],
   "source": [
    "# def searchRegression(results):\n",
    "#     candidates = []\n",
    "#     success_results = [ r for r in results if r['ExecuteTest'] ]\n",
    "#     if len(success_results) > 1:\n",
    "#         first_success_found = success_results[1]\n",
    "        \n",
    "#         # BORDER CASE: REGRESSION IS IN PREV COMMIT\n",
    "#         if first_success_found['id'] == 2:\n",
    "#             candidates.append(results[1]['commit'][0:8])\n",
    "            \n",
    "#         for result in reversed(results[2:first_success_found['id']]):\n",
    "#             candidates.append(result['commit'][0:8])\n",
    "#             if result['Build'] and result['BuildTest']: break\n",
    "                \n",
    "#     return candidates"
   ]
  },
  {
   "cell_type": "code",
   "execution_count": 5,
   "id": "e8b94534",
   "metadata": {},
   "outputs": [],
   "source": [
    "def analyzeBug(project, bug_id):\n",
    "    \n",
    "    bug_name = \"Bug_\"+str(bug_id)\n",
    "    bug_path = \"{root}/results/{project}/{bug_name}/\".format(root=root, project=project, bug_name=bug_name)\n",
    "    \n",
    "    with open(\"{root}/configFiles/{project}/bugs/{bug_name}.json\".format(root=root,project=project, bug_name=bug_name)) as f:\n",
    "        bug_info = json.load(f)\n",
    "        \n",
    "    test_name = re.search(r\"-Dtest=(.*) test\",bug_info['test_command']).group(1)\n",
    "\n",
    "    bug_result = {\n",
    "        'id': project + \"_\" + bug_name,\n",
    "        'bug': bug_name,\n",
    "        'project': project,\n",
    "        \"fix_pass\": True,\n",
    "        \"prev_fails\": True,\n",
    "        \"category\": None,\n",
    "        \"sub_category\": \"-\",\n",
    "        \"test_name\": test_name,\n",
    "        \"bug_report\": bug_info['bug_report'],\n",
    "        \"fix_commit\": bug_info['fix_commit'],\n",
    "        \"BIC_candidates\": []\n",
    "    }\n",
    "    \n",
    "    if not os.path.isfile(bug_path+'commit_history.csv'):\n",
    "        print(bug_path+'commit_history.csv')\n",
    "        bug_result['category'] = \"Other error\"\n",
    "        return bug_result\n",
    "    \n",
    "    results_dir = analysis_results_path+\"{project}/{bug_name}/\".format(project=project, bug_name=bug_name)\n",
    "    createDirIfNotExists(results_dir)\n",
    "\n",
    "    commit_graph = CommitGraph(project, bug_id, bug_path, results_dir, restore=True)\n",
    "    \n",
    "    fix_commit = commit_graph.graph[bug_info['fix_commit']]\n",
    "    \n",
    "#     fix_result = results[bug_info['fix_commit']]\n",
    "    \n",
    "#     if not fix_result['ExecuteTest']: # FIX COMMIT - SHOULD PASS\n",
    "        \n",
    "#         bug_result['category'] = \"Test fails in the fix commit\"\n",
    "#         bug_result['fix_pass'] = False\n",
    "#         bug_result['prev_fails'] = None\n",
    "        \n",
    "#         if fix_result['Build']:\n",
    "#             if fix_result['BuildTest']:\n",
    "#                 if not fix_result['HasTestReport']:\n",
    "#                     bug_result['sub_category'] = \"The test was not executed\"\n",
    "#                 else:\n",
    "#                     bug_result['sub_category'] = \"Test execution fails\"\n",
    "#             else:\n",
    "#                 bug_result['sub_category'] = \"Failure in test build\"\n",
    "#         else:\n",
    "#             bug_result['sub_category'] = \"Failure in source build\"\n",
    "    \n",
    "#     else: \n",
    "\n",
    "#         # SEARCH REGRESSION\n",
    "#         candidates = searchRegression(results)\n",
    "#         if len(candidates) > 0:\n",
    "\n",
    "#             bug_result['BIC_candidates'] = candidates\n",
    "#             bug_result['category'] = \"A regression is detected\"\n",
    "\n",
    "#             if len(candidates) == 1:\n",
    "#                 bug_result['sub_category'] = \"Unique candidates\" \n",
    "#             else:\n",
    "#                 bug_result['sub_category'] = \"Multiple candidates\" \n",
    "\n",
    "#         # SEARCH OTHER BIC\n",
    "#         else:\n",
    "\n",
    "#             success_test_build = [ r for r in results if r['BuildTest'] ]\n",
    "#             candidate_commit = success_test_build[-1]\n",
    "#             if candidate_commit['id']+1 == len(results):\n",
    "#                 # Candidate commit is first commit\n",
    "#                 bug_result['sub_category'] = \"Reach first commit\"\n",
    "#             else:\n",
    "#                 candidate_commit_antecesor = results[candidate_commit['id']+1]\n",
    "#                 if candidate_commit_antecesor['Build']:\n",
    "#                     bug_result['sub_category'] = \"Failure in test build\"\n",
    "#                 else:\n",
    "#                     bug_result['sub_category'] = \"Failure in source build\" \n",
    "#             bug_result['BIC_candidates'] = [(candidate_commit['commit'][0:8])]\n",
    "#             bug_result['category'] = \"No regression is detected\"\n",
    "    \n",
    "    # Save bug result\n",
    "    with open(results_dir+\"bug_result.json\",'w+') as json_file:\n",
    "        json.dump(bug_result, json_file, indent=4)\n",
    "\n",
    "#     return bug_result"
   ]
  },
  {
   "cell_type": "code",
   "execution_count": 6,
   "id": "79bec9ce",
   "metadata": {},
   "outputs": [],
   "source": [
    "# Failure in test build JacksonDatabind Bug_17\n",
    "project_test =\"JacksonCore\"\n",
    "bug=11\n",
    "analyzeBug(project_test, bug)"
   ]
  },
  {
   "cell_type": "code",
   "execution_count": null,
   "id": "851b4eee",
   "metadata": {
    "scrolled": false
   },
   "outputs": [],
   "source": [
    "projects = [\n",
    "    \"JacksonXml\", \"Time\", \"Collections\", \"Compress\", \"Csv\", \"JacksonCore\", \"JacksonDatabind\", \"Gson\", \"Jsoup\"\n",
    "]\n",
    "bug_results = []\n",
    "for project in projects:\n",
    "    # FOR EACH BUG\n",
    "    for bug_path in glob.glob(\"{root}/results/{project}/Bug_*/\".format(root=root, project=project)):\n",
    "        bug = re.search(r\"Bug_(\\d+)\", bug_path).group(1)\n",
    "        try:\n",
    "            bug_result = analyzeBug(project, bug)\n",
    "            bug_results.append(bug_result)  \n",
    "        except Exception as e:\n",
    "            print(bug_path)\n",
    "            print(e)"
   ]
  },
  {
   "cell_type": "code",
   "execution_count": null,
   "id": "dfe5a7fd",
   "metadata": {},
   "outputs": [],
   "source": [
    "df = pd.DataFrame(bug_results)[['id', 'category', 'sub_category']]\n",
    "df[df['category'] != None].set_index('id').sort_index()\n",
    "print(len(df))\n",
    "df['category'].value_counts()"
   ]
  },
  {
   "cell_type": "code",
   "execution_count": null,
   "id": "e3db8885",
   "metadata": {},
   "outputs": [],
   "source": [
    "#df[df['category']=='Test failed at fix commit']\n",
    "df.groupby(['category', \"sub_category\"]).count()['id']"
   ]
  },
  {
   "cell_type": "code",
   "execution_count": null,
   "id": "0c8f426f",
   "metadata": {},
   "outputs": [],
   "source": [
    "df_projects = pd.DataFrame(bug_results)[['id', 'category', 'sub_category', 'project']]\n",
    "df_projects[df_projects['project']==\"Jsoup\"].groupby(['category', \"sub_category\"]).count()['id']"
   ]
  },
  {
   "cell_type": "code",
   "execution_count": null,
   "id": "bd3ff8ee",
   "metadata": {},
   "outputs": [],
   "source": [
    "df[df['category']=='Test fails in the fix commit'][df['sub_category']=='Test execution fails']"
   ]
  }
 ],
 "metadata": {
  "interpreter": {
   "hash": "d4d1e4263499bec80672ea0156c357c1ee493ec2b1c70f0acce89fc37c4a6abe"
  },
  "kernelspec": {
   "display_name": "Python 3.9.5 64-bit ('base': conda)",
   "name": "python3"
  },
  "language_info": {
   "codemirror_mode": {
    "name": "ipython",
    "version": 3
   },
   "file_extension": ".py",
   "mimetype": "text/x-python",
   "name": "python",
   "nbconvert_exporter": "python",
   "pygments_lexer": "ipython3",
   "version": "3.9.5"
  }
 },
 "nbformat": 4,
 "nbformat_minor": 5
}
