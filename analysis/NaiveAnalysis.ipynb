{
 "cells": [
  {
   "cell_type": "code",
   "execution_count": 2,
   "id": "0833f58d",
   "metadata": {},
   "outputs": [],
   "source": [
    "import pandas as pd \n",
    "import os\n",
    "import csv\n",
    "import json\n",
    "import glob\n",
    "import re"
   ]
  },
  {
   "cell_type": "code",
   "execution_count": 3,
   "id": "bd7affea",
   "metadata": {},
   "outputs": [],
   "source": [
    "def createDirIfNotExists(folder_name):\n",
    "    if not os.path.isdir(folder_name): \n",
    "        os.makedirs(folder_name)"
   ]
  },
  {
   "cell_type": "code",
   "execution_count": 4,
   "id": "4fe87aef",
   "metadata": {},
   "outputs": [],
   "source": [
    "root=\"/home/jovyan/work\"\n",
    "analysis_results_path = root + \"/analysis/results/\"\n",
    "createDirIfNotExists(analysis_results_path)"
   ]
  },
  {
   "cell_type": "code",
   "execution_count": 5,
   "id": "fef2fd5a",
   "metadata": {},
   "outputs": [],
   "source": [
    "def searchRegression(results):\n",
    "    candidates = []\n",
    "    success_results = [ r for r in results if r['ExecuteTest'] ]\n",
    "    if len(success_results) > 1:\n",
    "        first_success_found = success_results[1]\n",
    "        \n",
    "        # BORDER CASE: REGRESSION IS IN PREV COMMIT\n",
    "        if first_success_found['id'] == 2:\n",
    "            candidates.append(results[1]['commit'][0:8])\n",
    "            \n",
    "        for result in reversed(results[2:first_success_found['id']]):\n",
    "            candidates.append(result['commit'][0:8])\n",
    "            if result['Build'] and result['BuildTest']: break\n",
    "                \n",
    "    return candidates"
   ]
  },
  {
   "cell_type": "code",
   "execution_count": 6,
   "id": "e8b94534",
   "metadata": {},
   "outputs": [],
   "source": [
    "def analyzeBug(project, bug_path):\n",
    "    bug_name = re.search(r\"Bug_(\\d+)\", bug_path).group(0)\n",
    "\n",
    "    with open(\"{root}/configFiles/{project}/bugs/{bug_name}.json\".format(root=root,project=project, bug_name=bug_name)) as f:\n",
    "        bug_info = json.load(f)\n",
    "\n",
    "    test_name = re.search(r\"-Dtest=(.*) test\",bug_info['test_command']).group(1)\n",
    "\n",
    "    bug_result = {\n",
    "        'id': project + \"_\" + bug_name,\n",
    "        'bug': bug_name,\n",
    "        'project': project,\n",
    "        \"fix_pass\": True,\n",
    "        \"prev_fails\": True,\n",
    "        \"category\": None,\n",
    "        \"test_name\": test_name,\n",
    "        \"bug_report\": bug_info['bug_report'],\n",
    "        \"fix_commit\": bug_info['fix_commit'],\n",
    "        \"BIC_candidates\": [],\n",
    "        \"sub_category\": \"-\"\n",
    "    }\n",
    "    results = []\n",
    "    \n",
    "    if not os.path.isfile(bug_path+'commit_history.csv'):\n",
    "        bug_result['category'] = \"Other error\"\n",
    "        return bug_result\n",
    "    \n",
    "    # FOR EACH COMMIT\n",
    "    for index, row in pd.read_csv(bug_path+'commit_history.csv').iterrows():\n",
    "        commit_path = bug_path+\"commits/{id}-{c_hash}/\".format(id=row['id'], c_hash=row['hash'])\n",
    "        with open(commit_path+\"result.json\") as f:\n",
    "            raw_result = json.load(f)\n",
    "            result = {\n",
    "                'id': index,\n",
    "                'commit': row['hash'],\n",
    "                'Build': raw_result['isSourceBuildSuccess'],\n",
    "                'BuildTest': raw_result['isTestBuildSuccess'],\n",
    "                'ExecuteTest': raw_result['isTestExecutionSuccess']\n",
    "            }\n",
    "            results.append(result)  \n",
    "            \n",
    "        if index == 0 and not result['ExecuteTest']: # FIX COMMIT - SHOULD PASS\n",
    "            bug_result['category'] = \"Test fails in the fix commit\"\n",
    "            bug_result['fix_pass'] = False\n",
    "            bug_result['prev_fails'] = None\n",
    "            \n",
    "            if result['Build']:\n",
    "                if result['BuildTest']:\n",
    "                    if not os.path.isfile(commit_path+\"test-report.xml\"):\n",
    "                        bug_result['sub_category'] = \"The test was not executed\"\n",
    "                    else:\n",
    "                        bug_result['sub_category'] = \"Test execution fails\"\n",
    "                else:\n",
    "                    bug_result['sub_category'] = \"Failure in test build\"\n",
    "            else:\n",
    "                bug_result['sub_category'] = \"Failure in source build\"\n",
    "            break\n",
    "            \n",
    "            \n",
    "        if index == 1 and result['ExecuteTest']: # PREV COMMIT - SHOULD NOT PASS\n",
    "            bug_result['category'] = \"Test passes in the commit prior to the fix\"\n",
    "            bug_result['prev_fails'] = False\n",
    "            break\n",
    "\n",
    "    results_dir = analysis_results_path+\"{project}/{bug_name}/\".format(project=project, bug_name=bug_name)\n",
    "    createDirIfNotExists(results_dir)\n",
    "    \n",
    "    with open(results_dir+\"commit_history_results.csv\", 'w+') as csvfile: \n",
    "        writer = csv.DictWriter(csvfile, fieldnames = results[0].keys()) \n",
    "        writer.writeheader()\n",
    "        writer.writerows(results)\n",
    "    \n",
    "    # SEARCH FOR BIC IF FIX COMMIT PASS AND PREV COMMIT FAILS\n",
    "    if bug_result['fix_pass'] and bug_result['prev_fails']:\n",
    "        \n",
    "        # SEARCH REGRESSION\n",
    "        candidates = searchRegression(results)\n",
    "        if len(candidates) > 0:\n",
    "        \n",
    "            bug_result['BIC_candidates'] = candidates\n",
    "            bug_result['category'] = \"A regression is detected\"\n",
    "            \n",
    "            if len(candidates) == 1:\n",
    "                bug_result['sub_category'] = \"Unique candidates\" \n",
    "            else:\n",
    "                bug_result['sub_category'] = \"Multiple candidates\" \n",
    "            \n",
    "        # SEARCH OTHER BIC\n",
    "        else:\n",
    "            \n",
    "            success_test_build = [ r for r in results if r['BuildTest'] ]\n",
    "            candidate_commit = success_test_build[-1]\n",
    "            if candidate_commit['id']+1 == len(results):\n",
    "                # Candidate commit is first commit\n",
    "                bug_result['sub_category'] = \"Reach first commit\"\n",
    "            else:\n",
    "                candidate_commit_antecesor = results[candidate_commit['id']+1]\n",
    "                if candidate_commit_antecesor['Build']:\n",
    "                    bug_result['sub_category'] = \"Failure in test build\"\n",
    "                else:\n",
    "                    bug_result['sub_category'] = \"Failure in source build\" \n",
    "            bug_result['BIC_candidates'] = [(candidate_commit['commit'][0:8])]\n",
    "            bug_result['category'] = \"No regression is detected\"\n",
    "    \n",
    "    # Save bug result\n",
    "    with open(results_dir+\"bug_result.json\",'w+') as json_file:\n",
    "        json.dump(bug_result, json_file, indent=4)\n",
    "\n",
    "    return bug_result"
   ]
  },
  {
   "cell_type": "code",
   "execution_count": 7,
   "id": "79bec9ce",
   "metadata": {},
   "outputs": [
    {
     "data": {
      "text/plain": [
       "{'id': 'JacksonDatabind_Bug_38',\n",
       " 'bug': 'Bug_38',\n",
       " 'project': 'JacksonDatabind',\n",
       " 'fix_pass': True,\n",
       " 'prev_fails': True,\n",
       " 'category': 'A regression is detected',\n",
       " 'test_name': 'com.fasterxml.jackson.databind.interop.DeprecatedTypeHandling1102Test#testExplicitMapType',\n",
       " 'bug_report': 'https://github.com/FasterXML/jackson-databind/issues/1102',\n",
       " 'fix_commit': '21a2e4b7d680bf796f07d5d3b6119a3cd3fc356c',\n",
       " 'BIC_candidates': ['ef002240'],\n",
       " 'sub_category': 'Unique candidates'}"
      ]
     },
     "execution_count": 7,
     "metadata": {},
     "output_type": "execute_result"
    }
   ],
   "source": [
    "project_test = \"JacksonDatabind\"\n",
    "bug=38\n",
    "analyzeBug(project_test, \"{root}/results/{project}/Bug_{id}/\".format(root=root, project=project_test, id=bug))"
   ]
  },
  {
   "cell_type": "code",
   "execution_count": 13,
   "id": "851b4eee",
   "metadata": {},
   "outputs": [],
   "source": [
    "projects = [\n",
    "    \"JacksonXml\", \"Time\", \"Collections\", \"Compress\", \"Csv\", \"JacksonCore\", \"JacksonDatabind\", \"Gson\", \"Jsoup\"\n",
    "]\n",
    "bug_results = []\n",
    "for project in projects:\n",
    "    # FOR EACH BUG\n",
    "    for bug_path in glob.glob(\"{root}/results/{project}/Bug_*/\".format(root=root, project=project)):\n",
    "        try:\n",
    "            bug_result = analyzeBug(project, bug_path)\n",
    "            bug_results.append(bug_result)  \n",
    "        except Exception as e:\n",
    "            print(bug_path)\n",
    "            print(e)"
   ]
  },
  {
   "cell_type": "code",
   "execution_count": 14,
   "id": "006c3d63",
   "metadata": {},
   "outputs": [
    {
     "name": "stdout",
     "output_type": "stream",
     "text": [
      "348\n"
     ]
    },
    {
     "data": {
      "text/plain": [
       "No regression is detected                     246\n",
       "Test fails in the fix commit                   47\n",
       "A regression is detected                       43\n",
       "Test passes in the commit prior to the fix     12\n",
       "Name: category, dtype: int64"
      ]
     },
     "execution_count": 14,
     "metadata": {},
     "output_type": "execute_result"
    }
   ],
   "source": [
    "df = pd.DataFrame(bug_results)[['id', 'category', 'sub_category']]\n",
    "df[df['category'] != None].set_index('id').sort_index()\n",
    "print(len(df))\n",
    "df['category'].value_counts()"
   ]
  },
  {
   "cell_type": "code",
   "execution_count": 18,
   "id": "e3db8885",
   "metadata": {},
   "outputs": [
    {
     "data": {
      "text/plain": [
       "category                                    sub_category             \n",
       "A regression is detected                    Multiple candidates           10\n",
       "                                            Unique candidates             33\n",
       "No regression is detected                   Failure in source build      117\n",
       "                                            Failure in test build        127\n",
       "                                            Reach first commit             2\n",
       "Test fails in the fix commit                Failure in source build       22\n",
       "                                            Failure in test build          3\n",
       "                                            Test execution fails           6\n",
       "                                            The test was not executed     16\n",
       "Test passes in the commit prior to the fix  -                             12\n",
       "Name: id, dtype: int64"
      ]
     },
     "execution_count": 18,
     "metadata": {},
     "output_type": "execute_result"
    }
   ],
   "source": [
    "#df[df['category']=='Test failed at fix commit']\n",
    "df.groupby(['category', \"sub_category\"]).count()['id']"
   ]
  },
  {
   "cell_type": "code",
   "execution_count": 19,
   "id": "0c8f426f",
   "metadata": {},
   "outputs": [
    {
     "data": {
      "text/plain": [
       "category                      sub_category           \n",
       "A regression is detected      Unique candidates           8\n",
       "No regression is detected     Failure in source build     1\n",
       "                              Failure in test build      82\n",
       "Test fails in the fix commit  Test execution fails        2\n",
       "Name: id, dtype: int64"
      ]
     },
     "execution_count": 19,
     "metadata": {},
     "output_type": "execute_result"
    }
   ],
   "source": [
    "df_projects = pd.DataFrame(bug_results)[['id', 'category', 'sub_category', 'project']]\n",
    "df_projects[df_projects['project']==\"Jsoup\"].groupby(['category', \"sub_category\"]).count()['id']"
   ]
  },
  {
   "cell_type": "code",
   "execution_count": 21,
   "id": "bd3ff8ee",
   "metadata": {},
   "outputs": [
    {
     "name": "stderr",
     "output_type": "stream",
     "text": [
      "/tmp/ipykernel_150732/3653276638.py:1: UserWarning: Boolean Series key will be reindexed to match DataFrame index.\n",
      "  df[df['category']=='Test fails in the fix commit'][df['sub_category']=='Test execution fails']\n"
     ]
    },
    {
     "data": {
      "text/html": [
       "<div>\n",
       "<style scoped>\n",
       "    .dataframe tbody tr th:only-of-type {\n",
       "        vertical-align: middle;\n",
       "    }\n",
       "\n",
       "    .dataframe tbody tr th {\n",
       "        vertical-align: top;\n",
       "    }\n",
       "\n",
       "    .dataframe thead th {\n",
       "        text-align: right;\n",
       "    }\n",
       "</style>\n",
       "<table border=\"1\" class=\"dataframe\">\n",
       "  <thead>\n",
       "    <tr style=\"text-align: right;\">\n",
       "      <th></th>\n",
       "      <th>id</th>\n",
       "      <th>category</th>\n",
       "      <th>sub_category</th>\n",
       "    </tr>\n",
       "  </thead>\n",
       "  <tbody>\n",
       "    <tr>\n",
       "      <th>12</th>\n",
       "      <td>Time_Bug_9</td>\n",
       "      <td>Test fails in the fix commit</td>\n",
       "      <td>Test execution fails</td>\n",
       "    </tr>\n",
       "    <tr>\n",
       "      <th>16</th>\n",
       "      <td>Time_Bug_8</td>\n",
       "      <td>Test fails in the fix commit</td>\n",
       "      <td>Test execution fails</td>\n",
       "    </tr>\n",
       "    <tr>\n",
       "      <th>23</th>\n",
       "      <td>Time_Bug_7</td>\n",
       "      <td>Test fails in the fix commit</td>\n",
       "      <td>Test execution fails</td>\n",
       "    </tr>\n",
       "    <tr>\n",
       "      <th>26</th>\n",
       "      <td>Time_Bug_16</td>\n",
       "      <td>Test fails in the fix commit</td>\n",
       "      <td>Test execution fails</td>\n",
       "    </tr>\n",
       "    <tr>\n",
       "      <th>257</th>\n",
       "      <td>Jsoup_Bug_67</td>\n",
       "      <td>Test fails in the fix commit</td>\n",
       "      <td>Test execution fails</td>\n",
       "    </tr>\n",
       "    <tr>\n",
       "      <th>334</th>\n",
       "      <td>Jsoup_Bug_78</td>\n",
       "      <td>Test fails in the fix commit</td>\n",
       "      <td>Test execution fails</td>\n",
       "    </tr>\n",
       "  </tbody>\n",
       "</table>\n",
       "</div>"
      ],
      "text/plain": [
       "               id                      category          sub_category\n",
       "12     Time_Bug_9  Test fails in the fix commit  Test execution fails\n",
       "16     Time_Bug_8  Test fails in the fix commit  Test execution fails\n",
       "23     Time_Bug_7  Test fails in the fix commit  Test execution fails\n",
       "26    Time_Bug_16  Test fails in the fix commit  Test execution fails\n",
       "257  Jsoup_Bug_67  Test fails in the fix commit  Test execution fails\n",
       "334  Jsoup_Bug_78  Test fails in the fix commit  Test execution fails"
      ]
     },
     "execution_count": 21,
     "metadata": {},
     "output_type": "execute_result"
    }
   ],
   "source": [
    "df[df['category']=='Test fails in the fix commit'][df['sub_category']=='Test execution fails']"
   ]
  }
 ],
 "metadata": {
  "interpreter": {
   "hash": "d4d1e4263499bec80672ea0156c357c1ee493ec2b1c70f0acce89fc37c4a6abe"
  },
  "kernelspec": {
   "display_name": "Python 3 (ipykernel)",
   "language": "python",
   "name": "python3"
  },
  "language_info": {
   "codemirror_mode": {
    "name": "ipython",
    "version": 3
   },
   "file_extension": ".py",
   "mimetype": "text/x-python",
   "name": "python",
   "nbconvert_exporter": "python",
   "pygments_lexer": "ipython3",
   "version": "3.9.5"
  }
 },
 "nbformat": 4,
 "nbformat_minor": 5
}
